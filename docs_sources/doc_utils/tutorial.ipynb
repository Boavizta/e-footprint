{
 "cells": [
  {
   "cell_type": "markdown",
   "id": "66c060b1-c8a7-460e-8c4e-d36b0ace9d5c",
   "metadata": {},
   "source": [
    "# e-footprint tutorial"
   ]
  },
  {
   "cell_type": "markdown",
   "id": "99e47f8f-5f96-434a-9418-7d23500b8ee2",
   "metadata": {},
   "source": [
    "This notebook provides an example scenario that you can use to get familiar with the Python API of efootprint: the daily video consumption of all French households on a big streaming platform.\n",
    "\n",
    "You will get to describe:\n",
    "- the infrastructure involved (serveurs with auto-scaling settings, storage, service and network)\n",
    "- the user journey involving 2 steps (Streaming, Upload)\n",
    "- the usage pattern and the device population that executes it (the laptops of all French households)"
   ]
  },
  {
   "cell_type": "markdown",
   "id": "899edb61-e0fb-4923-a542-34c81e66ddb1",
   "metadata": {},
   "source": [
    "## Import the packages\n",
    "\n",
    "⚠ If this steps fails, remember to run *ipython kernel install --user --name=efootprint-kernel* _inside_ your python virtual environement (initializable with `poetry install`) to be able to select efootprint-kernel as the jupyter kernel."
   ]
  },
  {
   "cell_type": "code",
   "execution_count": 1,
   "id": "7c1757b9-ec0b-45d1-89cc-c18a9bf2f907",
   "metadata": {},
   "outputs": [],
   "source": [
    "from efootprint.abstract_modeling_classes.source_objects import SourceValue, Sources, SourceObject\n",
    "from efootprint.core.usage.user_journey import UserJourney, UserJourneyStep\n",
    "from efootprint.core.hardware.servers.autoscaling import Autoscaling\n",
    "from efootprint.core.hardware.storage import Storage\n",
    "from efootprint.core.service import Service\n",
    "from efootprint.core.hardware.device_population import DevicePopulation\n",
    "from efootprint.core.usage.usage_pattern import UsagePattern\n",
    "from efootprint.core.hardware.network import Network\n",
    "from efootprint.core.system import System\n",
    "from efootprint.constants.countries import Countries\n",
    "from efootprint.constants.units import u\n",
    "from efootprint.utils.object_relationships_graphs import USAGE_PATTERN_VIEW_CLASSES_TO_IGNORE\n",
    "from efootprint.builders.hardware.devices_defaults import default_laptop\n",
    "\n",
    "import os"
   ]
  },
  {
   "cell_type": "markdown",
   "id": "9ba31d91-0126-43bc-9617-9d5939d003bc",
   "metadata": {},
   "source": [
    "## Define the infrastructure"
   ]
  },
  {
   "cell_type": "markdown",
   "id": "ef0c8110-2d19-4acb-9274-8afd6cac9a0f",
   "metadata": {},
   "source": [
    "An e-footprint object has a name and attributes describing its technical and environmental characteristics:"
   ]
  },
  {
   "cell_type": "code",
   "execution_count": 2,
   "id": "92719fd2-07a7-4172-8ddb-2db532497a3b",
   "metadata": {},
   "outputs": [],
   "source": [
    "server = Autoscaling(\n",
    "    \"Autoscaling server\",\n",
    "    carbon_footprint_fabrication=SourceValue(600 * u.kg, Sources.BASE_ADEME_V19),\n",
    "    power=SourceValue(300 * u.W, Sources.HYPOTHESIS),\n",
    "    lifespan=SourceValue(6 * u.year, Sources.HYPOTHESIS),\n",
    "    idle_power=SourceValue(50 * u.W, Sources.HYPOTHESIS),\n",
    "    ram=SourceValue(128 * u.GB, Sources.HYPOTHESIS),\n",
    "    cpu_cores=SourceValue(24 * u.core, Sources.HYPOTHESIS),\n",
    "    power_usage_effectiveness=SourceValue(1.2 * u.dimensionless, Sources.HYPOTHESIS),\n",
    "    average_carbon_intensity=SourceValue(100 * u.g / u.kWh, Sources.HYPOTHESIS),\n",
    "    server_utilization_rate=SourceValue(0.9 * u.dimensionless, Sources.HYPOTHESIS))"
   ]
  },
  {
   "cell_type": "markdown",
   "id": "3b59148c-1fa9-40db-a532-cfa103eeb3d1",
   "metadata": {},
   "source": [
    "Moreover, all e-footprint objects have a *calculated_attributes* attributes that shows the list of attributes that are setup as None and then computed by e-footprint when the modeling is over. For example, for our server:"
   ]
  },
  {
   "cell_type": "code",
   "execution_count": 3,
   "id": "e300c5c5-4614-476c-92d3-20e820375df3",
   "metadata": {},
   "outputs": [
    {
     "name": "stdout",
     "output_type": "stream",
     "text": [
      "name: Autoscaling server\n",
      "id: Autoscaling server b91c07\n",
      "carbon_footprint_fabrication: 600 kilogram\n",
      "power: 300 watt\n",
      "lifespan: 6 year\n",
      "fraction_of_usage_time: 1 dimensionless\n",
      "average_carbon_intensity: 100.0 gram / kilowatt_hour\n",
      "server_utilization_rate: 0.9 dimensionless\n",
      "idle_power: 50 watt\n",
      "ram: 128 gigabyte\n",
      "cpu_cores: 24 core\n",
      "power_usage_effectiveness: 1.2 dimensionless\n",
      "calculated_attributes:\n",
      "  available_ram_per_instance: None\n",
      "  available_cpu_per_instance: None\n",
      "  all_services_cpu_needs: None\n",
      "  all_services_ram_needs: None\n",
      "  fraction_of_time_in_use: None\n",
      "  nb_of_instances: None\n",
      "  instances_fabrication_footprint: None\n",
      "  instances_power: None\n",
      "  energy_footprint: None\n",
      "\n"
     ]
    }
   ],
   "source": [
    "print(server)"
   ]
  },
  {
   "cell_type": "markdown",
   "id": "2461435c-ac9c-42a5-a8d8-09d7647750aa",
   "metadata": {},
   "source": [
    "More information on e-footprint objects’ calculated_attributes can be found in the [e-footprint documentation](https://publicissapient-france.github.io/e-footprint/)."
   ]
  },
  {
   "cell_type": "code",
   "execution_count": 4,
   "id": "7ea93fbb-f994-4338-a71b-bd2fc495cc5e",
   "metadata": {},
   "outputs": [],
   "source": [
    "storage = Storage(\n",
    "    \"SSD storage\",\n",
    "    carbon_footprint_fabrication=SourceValue(160 * u.kg, Sources.STORAGE_EMBODIED_CARBON_STUDY),\n",
    "    power=SourceValue(1.3 * u.W, Sources.STORAGE_EMBODIED_CARBON_STUDY),\n",
    "    lifespan=SourceValue(6 * u.years, Sources.HYPOTHESIS),\n",
    "    idle_power=SourceValue(0 * u.W, Sources.HYPOTHESIS),\n",
    "    storage_capacity=SourceValue(1 * u.TB, Sources.STORAGE_EMBODIED_CARBON_STUDY),\n",
    "    power_usage_effectiveness=SourceValue(1.2 * u.dimensionless, Sources.HYPOTHESIS),\n",
    "    average_carbon_intensity=SourceValue(100 * u.g / u.kWh),\n",
    "    data_replication_factor=SourceValue(3 * u.dimensionless, Sources.HYPOTHESIS))"
   ]
  },
  {
   "cell_type": "markdown",
   "id": "f80b9fcb-9802-4727-a569-8d55a6a4d3b7",
   "metadata": {},
   "source": [
    "Apart from environmental and technical attributes, e-footprint objects can link to other e-footprint objects. For example, the following service runs on the server and uploads data to the storage:"
   ]
  },
  {
   "cell_type": "code",
   "execution_count": 5,
   "id": "a7df83eb-f052-4d7f-a1ac-bca15f2ab7bb",
   "metadata": {},
   "outputs": [],
   "source": [
    "service = Service(\n",
    "    \"Streaming platform\",\n",
    "    server=server,\n",
    "    storage=storage,\n",
    "    base_ram_consumption=SourceValue(300 * u.MB, Sources.HYPOTHESIS),\n",
    "    base_cpu_consumption=SourceValue(2 * u.core, Sources.HYPOTHESIS))"
   ]
  },
  {
   "cell_type": "markdown",
   "id": "cc81bf1b-763e-4e5f-86e0-67e89c86f659",
   "metadata": {},
   "source": [
    "## Define the user journey\n",
    "\n",
    "This is the modeling of the average daily usage of the streaming platform in France:"
   ]
  },
  {
   "cell_type": "code",
   "execution_count": 6,
   "id": "83f1191a-f493-412b-8d44-c740828de778",
   "metadata": {},
   "outputs": [
    {
     "name": "stderr",
     "output_type": "stream",
     "text": [
      "2024-03-11 16:48:10,718 - INFO - Computing calculated attributes for UserJourneyStep 20 min streaming\n",
      "2024-03-11 16:48:10,721 - INFO - Computing calculated attributes for UserJourneyStep 0.4s of upload\n"
     ]
    }
   ],
   "source": [
    "streaming_step = UserJourneyStep(\n",
    "    \"20 min streaming\",\n",
    "    service=service,\n",
    "    data_upload=SourceValue(50 * u.kB / u.uj, Sources.USER_DATA),\n",
    "    data_download=SourceValue((2.5 / 3) * u.GB / u.uj, Sources.USER_DATA),\n",
    "    user_time_spent=SourceValue(20 * u.min / u.uj, Sources.USER_DATA),\n",
    "    request_duration=SourceValue(4 * u.min, Sources.HYPOTHESIS),\n",
    "    cpu_needed=SourceValue(1 * u.core / u.uj, Sources.HYPOTHESIS),\n",
    "    ram_needed=SourceValue(50 * u.MB / u.uj, Sources.HYPOTHESIS))\n",
    "upload_step = UserJourneyStep(\n",
    "    \"0.4s of upload\",\n",
    "    service=service,\n",
    "    data_upload=SourceValue(300 * u.kB / u.uj, Sources.USER_DATA),\n",
    "    data_download=SourceValue(0 * u.GB / u.uj, Sources.USER_DATA),\n",
    "    user_time_spent=SourceValue(0.4 * u.s / u.uj, Sources.USER_DATA),\n",
    "    request_duration=SourceValue(0.4 * u.s, Sources.HYPOTHESIS),\n",
    "    cpu_needed=SourceValue(1 * u.core / u.uj, Sources.HYPOTHESIS),\n",
    "    ram_needed=SourceValue(50 * u.MB / u.uj, Sources.HYPOTHESIS)\n",
    ")"
   ]
  },
  {
   "cell_type": "markdown",
   "id": "5ea271b2-80dc-4954-b26e-04b76b1f0490",
   "metadata": {},
   "source": [
    "The user journey is then simply a list of user journey steps:"
   ]
  },
  {
   "cell_type": "code",
   "execution_count": 7,
   "id": "d7a256df-b9bf-4f5c-a1d7-884aea4283a9",
   "metadata": {},
   "outputs": [
    {
     "name": "stderr",
     "output_type": "stream",
     "text": [
      "2024-03-11 16:48:10,729 - INFO - Computing calculated attributes for UserJourney Mean video consumption user journey\n"
     ]
    }
   ],
   "source": [
    "user_journey = UserJourney(\"Mean video consumption user journey\", uj_steps=[streaming_step, upload_step])"
   ]
  },
  {
   "cell_type": "markdown",
   "id": "f143aef6-1475-45ec-9f3f-588ebf5a6ce6",
   "metadata": {},
   "source": [
    "## Define the device population and usage"
   ]
  },
  {
   "cell_type": "code",
   "execution_count": 8,
   "id": "477fd54c-f41d-4c3e-a76a-fb6bd48f53e2",
   "metadata": {},
   "outputs": [
    {
     "name": "stderr",
     "output_type": "stream",
     "text": [
      "2024-03-11 16:48:10,742 - INFO - Computing calculated attributes for System System\n",
      "2024-03-11 16:48:10,743 - INFO - Computing calculated attributes for UsagePattern Daily video streaming consumption\n",
      "2024-03-11 16:48:10,744 - INFO - Computing calculated attributes for DevicePopulation French households’ laptops\n",
      "2024-03-11 16:48:10,748 - INFO - Computing calculated attributes for Service Streaming platform\n",
      "2024-03-11 16:48:10,754 - INFO - Computing calculated attributes for Network WIFI network\n",
      "2024-03-11 16:48:10,758 - INFO - Computing calculated attributes for Autoscaling Autoscaling server\n",
      "2024-03-11 16:48:10,803 - INFO - Computing calculated attributes for Storage SSD storage\n"
     ]
    }
   ],
   "source": [
    "device_population = DevicePopulation(\n",
    "    \"French households’ laptops\",\n",
    "    nb_devices=SourceValue(4e7 * 0.3 * u.user, Sources.USER_DATA),\n",
    "    country=Countries.FRANCE(),\n",
    "    devices=[default_laptop()])\n",
    "\n",
    "network = Network(\n",
    "        \"WIFI network\",\n",
    "        bandwidth_energy_intensity=SourceValue(0.05 * u(\"kWh/GB\"), Sources.TRAFICOM_STUDY))\n",
    "\n",
    "usage_pattern = UsagePattern(\n",
    "    \"Daily video streaming consumption\",\n",
    "    user_journey=user_journey,\n",
    "    device_population=device_population,\n",
    "    network=network,\n",
    "    user_journey_freq_per_user=SourceValue(365 * u.user_journey / (u.user * u.year), Sources.USER_DATA),\n",
    "    time_intervals=SourceObject([[7, 12], [17, 23]]))\n",
    "\n",
    "system = System(\"System\", usage_patterns=[usage_pattern])"
   ]
  },
  {
   "cell_type": "markdown",
   "id": "83ec6579-be6a-40ff-bed2-ea4c18062841",
   "metadata": {},
   "source": [
    "## Results\n",
    "\n",
    "### Computed attributes\n",
    "\n",
    "Now all calculated_attributes have been computed:"
   ]
  },
  {
   "cell_type": "code",
   "execution_count": 9,
   "id": "0c7aabec-8d2e-439f-af33-1f927bcb4b1b",
   "metadata": {},
   "outputs": [
    {
     "name": "stdout",
     "output_type": "stream",
     "text": [
      "name: Autoscaling server\n",
      "id: Autoscaling server b91c07\n",
      "carbon_footprint_fabrication: 600 kilogram\n",
      "power: 300 watt\n",
      "lifespan: 6 year\n",
      "fraction_of_usage_time: 1 dimensionless\n",
      "average_carbon_intensity: 100.0 gram / kilowatt_hour\n",
      "server_utilization_rate: 0.9 dimensionless\n",
      "idle_power: 50 watt\n",
      "ram: 128 gigabyte\n",
      "cpu_cores: 24 core\n",
      "power_usage_effectiveness: 1.2 dimensionless\n",
      "calculated_attributes:\n",
      "  available_ram_per_instance: 114.9 gigabyte\n",
      "  available_cpu_per_instance: 19.6 core\n",
      "  all_services_cpu_needs: [0.0 core, 0.0 core, 0.0 core, 0.0 core, 0.0 core, 0.0 core, 72798.7 core, 72798.7 core, 72798.7 core, 72798.7 core, 72798.7 core, 0.0 core, 0.0 core, 0.0 core, 0.0 core, 0.0 core, 72798.7 core, 72798.7 core, 72798.7 core, 72798.7 core, 72798.7 core, 72798.7 core, 0.0 core, 0.0 core]\n",
      "  all_services_ram_needs: [0.0 gigabyte, 0.0 gigabyte, 0.0 gigabyte, 0.0 gigabyte, 0.0 gigabyte, 0.0 gigabyte, 3639.94 gigabyte, 3639.94 gigabyte, 3639.94 gigabyte, 3639.94 gigabyte, 3639.94 gigabyte, 0.0 gigabyte, 0.0 gigabyte, 0.0 gigabyte, 0.0 gigabyte, 0.0 gigabyte, 3639.94 gigabyte, 3639.94 gigabyte, 3639.94 gigabyte, 3639.94 gigabyte, 3639.94 gigabyte, 3639.94 gigabyte, 0.0 gigabyte, 0.0 gigabyte]\n",
      "  fraction_of_time_in_use: 0.46 dimensionless\n",
      "  nb_of_instances: 1702.71 dimensionless\n",
      "  instances_fabrication_footprint: 170270.83 kilogram / year\n",
      "  instances_power: 5373338.85 kilowatt_hour / year\n",
      "  energy_footprint: 537333.89 kilogram / year\n",
      "\n"
     ]
    }
   ],
   "source": [
    "print(server)"
   ]
  },
  {
   "cell_type": "markdown",
   "id": "e7150f8f-a2a3-4490-b099-5c658f963d83",
   "metadata": {},
   "source": [
    "### System footprint overview"
   ]
  },
  {
   "cell_type": "code",
   "execution_count": 10,
   "id": "ad25abdc-dbae-4bc1-97d4-489786e228be",
   "metadata": {},
   "outputs": [
    {
     "name": "stdout",
     "output_type": "stream",
     "text": [
      "PLACEHOLDER_SYSTEM_FOOTPRINTS\n"
     ]
    }
   ],
   "source": [
    "system.plot_footprints_by_category_and_object(\"../mkdocs_sourcefiles/System footprints.html\")\n",
    "\n",
    "print(\"PLACEHOLDER_SYSTEM_FOOTPRINTS\")"
   ]
  },
  {
   "cell_type": "markdown",
   "id": "3af39658-b218-4000-b8c8-f5aa3c3e6a36",
   "metadata": {},
   "source": [
    "### Object relationships graph"
   ]
  },
  {
   "cell_type": "code",
   "execution_count": 11,
   "id": "5eb42a32-b6bd-4809-a438-a40b341bc218",
   "metadata": {},
   "outputs": [
    {
     "name": "stdout",
     "output_type": "stream",
     "text": [
      "../mkdocs_sourcefiles/object_relationships_graph.html\n",
      "PLACEHOLDER_OBJECT_RELATIONSHIPS\n"
     ]
    }
   ],
   "source": [
    "usage_pattern.object_relationship_graph_to_file(\"../mkdocs_sourcefiles/object_relationships_graph.html\",\n",
    "    classes_to_ignore=USAGE_PATTERN_VIEW_CLASSES_TO_IGNORE, width=\"760px\", height=\"300px\", notebook=False)\n",
    "\n",
    "print(\"PLACEHOLDER_OBJECT_RELATIONSHIPS\")"
   ]
  },
  {
   "cell_type": "markdown",
   "id": "7effc658-1791-4bac-9158-0035c887cd52",
   "metadata": {},
   "source": [
    "### Calculus graph\n",
    "\n",
    "Any e-footprint calculation can generate its calculation graph for full auditability. Hover on a calculus node to display its formula and numeric value."
   ]
  },
  {
   "cell_type": "code",
   "execution_count": 12,
   "id": "e39717bc-d3b5-4512-9ee4-2cbd1a500de6",
   "metadata": {},
   "outputs": [
    {
     "name": "stdout",
     "output_type": "stream",
     "text": [
      "../mkdocs_sourcefiles/device_population_fab_footprint_calculus_graph.html\n",
      "PLACEHOLDER_CALCULUS_GRAPH\n"
     ]
    }
   ],
   "source": [
    "device_population.instances_fabrication_footprint.calculus_graph_to_file(\n",
    "    \"../mkdocs_sourcefiles/device_population_fab_footprint_calculus_graph.html\", width=\"760px\", height=\"600px\", notebook=False)\n",
    "\n",
    "print(\"PLACEHOLDER_CALCULUS_GRAPH\")"
   ]
  },
  {
   "cell_type": "code",
   "execution_count": null,
   "id": "1bf2daa9-a40c-41db-afa9-ee9b12ccaaa7",
   "metadata": {},
   "outputs": [],
   "source": []
  }
 ],
 "metadata": {
  "kernelspec": {
   "display_name": "efootprint",
   "language": "python",
   "name": "efootprint"
  },
  "language_info": {
   "codemirror_mode": {
    "name": "ipython",
    "version": 3
   },
   "file_extension": ".py",
   "mimetype": "text/x-python",
   "name": "python",
   "nbconvert_exporter": "python",
   "pygments_lexer": "ipython3",
   "version": "3.12.2"
  }
 },
 "nbformat": 4,
 "nbformat_minor": 5
}
