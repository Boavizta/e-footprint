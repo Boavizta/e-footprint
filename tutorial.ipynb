{
 "cells": [
  {
   "cell_type": "markdown",
   "id": "6bc9b591-b971-4e01-b2a4-3b2ac48b7f8d",
   "metadata": {},
   "source": [
    "# e-footprint quickstart"
   ]
  },
  {
   "cell_type": "markdown",
   "id": "99e47f8f-5f96-434a-9418-7d23500b8ee2",
   "metadata": {},
   "source": [
    "This notebook provides an example scenario that you can use to get familiar with the Python API of efootprint: the daily video consumption of all French households on a big streaming platform.\n",
    "\n",
    "You will get to describe:\n",
    "\n",
    "- the infrastructure involved (servers with auto-scaling settings, storage and network)\n",
    "- the user journey involving 2 steps (Streaming, Upload)\n",
    "- the usage pattern and the device population that executes it (the laptops of all French households)"
   ]
  },
  {
   "cell_type": "markdown",
   "id": "899edb61-e0fb-4923-a542-34c81e66ddb1",
   "metadata": {},
   "source": [
    "## Import the packages\n",
    "\n",
    "⚠ If this steps fails, remember to run *ipython kernel install --user --name=efootprint-kernel* _inside_ your python virtual environement (initializable with `poetry install`) to be able to select efootprint-kernel as the jupyter kernel."
   ]
  },
  {
   "cell_type": "code",
   "id": "9b157707-3bd3-4e82-899c-0beaec098386",
   "metadata": {
    "scrolled": true
   },
   "source": [
    "# If this hasn’t been done in virtualenv (useful for Google colab notebook)\n",
    "!pip install efootprint"
   ],
   "outputs": [],
   "execution_count": null
  },
  {
   "cell_type": "code",
   "id": "7c1757b9-ec0b-45d1-89cc-c18a9bf2f907",
   "metadata": {},
   "source": [
    "import os\n",
    "\n",
    "from efootprint.abstract_modeling_classes.source_objects import SourceValue, Sources, SourceObject\n",
    "from efootprint.abstract_modeling_classes.empty_explainable_object import EmptyExplainableObject\n",
    "from efootprint.core.usage.usage_journey import UsageJourney\n",
    "from efootprint.core.usage.usage_journey_step import UsageJourneyStep\n",
    "from efootprint.core.usage.job import Job\n",
    "from efootprint.core.hardware.server import Server, ServerTypes\n",
    "from efootprint.core.hardware.storage import Storage\n",
    "from efootprint.core.usage.usage_pattern import UsagePattern\n",
    "from efootprint.core.hardware.network import Network\n",
    "from efootprint.core.hardware.device import Device\n",
    "from efootprint.core.system import System\n",
    "from efootprint.constants.countries import Countries\n",
    "from efootprint.constants.units import u"
   ],
   "outputs": [],
   "execution_count": null
  },
  {
   "cell_type": "markdown",
   "id": "9ba31d91-0126-43bc-9617-9d5939d003bc",
   "metadata": {},
   "source": [
    "## Define the infrastructure"
   ]
  },
  {
   "cell_type": "markdown",
   "id": "ef0c8110-2d19-4acb-9274-8afd6cac9a0f",
   "metadata": {},
   "source": [
    "### Creating objects manually\n",
    "An e-footprint object has a name and attributes describing its technical and environmental characteristics:"
   ]
  },
  {
   "cell_type": "code",
   "id": "7ea93fbb-f994-4338-a71b-bd2fc495cc5e",
   "metadata": {},
   "source": [
    "storage = Storage(\n",
    "    \"SSD storage\",\n",
    "    carbon_footprint_fabrication_per_storage_capacity=SourceValue(160 * u.kg / u.TB, Sources.STORAGE_EMBODIED_CARBON_STUDY),\n",
    "    power_per_storage_capacity=SourceValue(1.3 * u.W / u.TB, Sources.STORAGE_EMBODIED_CARBON_STUDY),\n",
    "    lifespan=SourceValue(6 * u.years, Sources.HYPOTHESIS),\n",
    "    idle_power=SourceValue(0 * u.W, Sources.HYPOTHESIS),\n",
    "    storage_capacity=SourceValue(1 * u.TB, Sources.STORAGE_EMBODIED_CARBON_STUDY),\n",
    "    data_replication_factor=SourceValue(3 * u.dimensionless, Sources.HYPOTHESIS),\n",
    "    data_storage_duration = SourceValue(2 * u.year, Sources.HYPOTHESIS),\n",
    "    base_storage_need = SourceValue(100 * u.TB, Sources.HYPOTHESIS),\n",
    "    fixed_nb_of_instances = EmptyExplainableObject()\n",
    "    )"
   ],
   "outputs": [],
   "execution_count": null
  },
  {
   "cell_type": "markdown",
   "id": "576d8d9b-3c1a-4ad8-822c-c1eb21c9e19f",
   "metadata": {},
   "source": [
    "### Creating objects from default values\n",
    "\n",
    "All e-footprint classes also implement default values and a *from_defaults* method that allows for using a set a pre-defined default attributes and specifying the ones we want to specify through keyword arguments."
   ]
  },
  {
   "cell_type": "code",
   "id": "f0b0fde5-19a2-46f2-9cfe-f7f855dc0f02",
   "metadata": {},
   "source": [
    "Storage.default_values"
   ],
   "outputs": [],
   "execution_count": null
  },
  {
   "cell_type": "code",
   "id": "ab612e72-e183-48ec-a4da-daf1650aa0f9",
   "metadata": {},
   "source": [
    "# Creating a storage object from defaults while specifying storage capacity using keyword arguments\n",
    "print(Storage.from_defaults(\"2 TB SSD storage\", storage_capacity=SourceValue(2 * u.TB)))"
   ],
   "outputs": [],
   "execution_count": null
  },
  {
   "cell_type": "markdown",
   "id": "3b59148c-1fa9-40db-a532-cfa103eeb3d1",
   "metadata": {},
   "source": [
    "We can see from the above print that e-footprint objects have calculated attributes that are setup as empty and then computed by e-footprint when associated with a usage. More information on e-footprint objects’ calculated_attributes can be found in the [object reference section of the e-footprint documentation](https://boavizta.github.io/e-footprint/object_reference/)."
   ]
  },
  {
   "cell_type": "markdown",
   "id": "c7987565-b2ca-46e9-96a0-af6fa6a079fc",
   "metadata": {},
   "source": [
    "### Creating objects from archetypes\n",
    "\n",
    "Some e-footprint objects (Storage, Network and Hardware) also have archetypes that have their own set of default values:"
   ]
  },
  {
   "cell_type": "code",
   "id": "e300c5c5-4614-476c-92d3-20e820375df3",
   "metadata": {},
   "source": [
    "Storage.archetypes()"
   ],
   "outputs": [],
   "execution_count": null
  },
  {
   "cell_type": "code",
   "id": "9f12751d-34db-4fb1-976c-010cfdc717fa",
   "metadata": {},
   "source": [
    "print(Storage.hdd())"
   ],
   "outputs": [],
   "execution_count": null
  },
  {
   "cell_type": "markdown",
   "id": "f80b9fcb-9802-4727-a569-8d55a6a4d3b7",
   "metadata": {},
   "source": [
    "Apart from environmental and technical attributes, e-footprint objects can link to other e-footprint objects. For example, server objects have a storage attribute:"
   ]
  },
  {
   "cell_type": "code",
   "id": "92719fd2-07a7-4172-8ddb-2db532497a3b",
   "metadata": {},
   "source": [
    "server = Server.from_defaults(\n",
    "    \"server\",\n",
    "    server_type=ServerTypes.autoscaling(),\n",
    "    power_usage_effectiveness=SourceValue(1.2 * u.dimensionless, Sources.HYPOTHESIS),\n",
    "    average_carbon_intensity=SourceValue(100 * u.g / u.kWh, Sources.HYPOTHESIS),\n",
    "    utilization_rate=SourceValue(0.9 * u.dimensionless, Sources.HYPOTHESIS),\n",
    "    base_ram_consumption=SourceValue(300 * u.MB, Sources.HYPOTHESIS),\n",
    "    base_compute_consumption=SourceValue(2 * u.cpu_core, Sources.HYPOTHESIS),\n",
    "    storage=storage\n",
    ")\n",
    "\n",
    "print(server)"
   ],
   "outputs": [],
   "execution_count": null
  },
  {
   "cell_type": "markdown",
   "id": "2461435c-ac9c-42a5-a8d8-09d7647750aa",
   "metadata": {},
   "source": [
    "### Creating objects from builders connected to external data sources\n",
    "\n",
    "Of course only relying on a single set of default values for creating our servers won’t get us far. That’s why e-footprint provides a builder class that connects to [Boavizta’s API](https://github.com/Boavizta/boaviztapi) to allow for the creation of servers from a cloud provider and an instance type."
   ]
  },
  {
   "cell_type": "code",
   "id": "33cc1716-53e3-4b45-bdf4-ba59eb9ee8f2",
   "metadata": {},
   "source": [
    "from efootprint.builders.hardware.boavizta_cloud_server import BoaviztaCloudServer\n",
    "\n",
    "# Some attributes can only take specific values\n",
    "for attribute, attribute_list_value in BoaviztaCloudServer.list_values.items():\n",
    "    print(f\"Possible values for {attribute}: {attribute_list_value}\")"
   ],
   "outputs": [],
   "execution_count": null
  },
  {
   "cell_type": "code",
   "id": "7984ea74-b2f8-41b7-acbd-b39b9b5de4a4",
   "metadata": {},
   "source": [
    "# Moreover, some attributes depend on another attribute for their values\n",
    "for attribute, attribute_conditional_dict in BoaviztaCloudServer.conditional_list_values.items():\n",
    "    condition_attribute = attribute_conditional_dict['depends_on']\n",
    "    print(f\"Possible values for {attribute} depend on {condition_attribute}:\\n\")\n",
    "    for condition_value, possible_values in attribute_conditional_dict[\"conditional_list_values\"].items():\n",
    "        if len(possible_values) > 10:\n",
    "            values_to_print = possible_values[:5] + [\"etc.\"]\n",
    "        else:\n",
    "            values_to_print = possible_values\n",
    "        print(f\"    Possible values when {condition_attribute} is {condition_value}: {values_to_print}\")\n",
    "    print(\"\\n\")"
   ],
   "outputs": [],
   "execution_count": null
  },
  {
   "cell_type": "code",
   "id": "ca3ad292-3365-4b6b-bf9b-c3cc53544d36",
   "metadata": {},
   "source": [
    "# BoaviztaCloudServer still has quite a lot of default values but ones that are much easier to make hypothesis on, \n",
    "# like lifespan, server utilisation rate or power usage effectiveness\n",
    "BoaviztaCloudServer.default_values"
   ],
   "outputs": [],
   "execution_count": null
  },
  {
   "cell_type": "code",
   "id": "8c7d0b2c-7da8-4a86-999f-55a5a0006380",
   "metadata": {},
   "source": [
    "# The most difficult environmental and technical attributes are retrieved from a call to BoaviztAPI:\n",
    "print(BoaviztaCloudServer.from_defaults(\"Default Boavizta cloud server\", storage=Storage.ssd(storage_capacity=SourceValue(32 * u.GB))))"
   ],
   "outputs": [],
   "execution_count": null
  },
  {
   "cell_type": "markdown",
   "id": "aeee21f1-b419-4310-808e-1d4bd9020799",
   "metadata": {},
   "source": [
    "## [Optional] Install services on your server\n",
    "\n",
    "Manually creating job objects can get tricky because you have to specify how much RAM and compute the job uses on the server it runs on during its duration. That’s why e-footprint allows for the installation of services on servers, that will give access to higher-level job classes that compute these very technical attributes from simpler ones. For example, let’s install a video streaming service on our server:"
   ]
  },
  {
   "cell_type": "markdown",
   "id": "e4be75cb-ae4d-4390-86da-f5d52ec0c0da",
   "metadata": {},
   "source": [
    "### Video streaming service"
   ]
  },
  {
   "cell_type": "code",
   "id": "8838aca7-c12f-4435-9583-1e27d6da464f",
   "metadata": {},
   "source": [
    "from efootprint.builders.services.video_streaming import VideoStreaming\n",
    "\n",
    "VideoStreaming.default_values"
   ],
   "outputs": [],
   "execution_count": null
  },
  {
   "cell_type": "code",
   "id": "2cc82bdb-23ac-4b04-801f-d68df47bd645",
   "metadata": {},
   "source": [
    "video_streaming_service = VideoStreaming.from_defaults(\"Video streaming service\", server=server)"
   ],
   "outputs": [],
   "execution_count": null
  },
  {
   "cell_type": "code",
   "id": "5c3f6a71-4169-4c4d-9668-1f90f602f841",
   "metadata": {},
   "source": [
    "# All services have a list of compatible job types, let’s check out the ones for video streaming:\n",
    "VideoStreaming.compatible_jobs()"
   ],
   "outputs": [],
   "execution_count": null
  },
  {
   "cell_type": "code",
   "id": "1c6bb8f7-805d-4fd5-9806-7a6cadadaffa",
   "metadata": {},
   "source": [
    "# There’s only one so let’s use it !\n",
    "from efootprint.builders.services.video_streaming import VideoStreamingJob\n",
    "\n",
    "VideoStreamingJob.default_values"
   ],
   "outputs": [],
   "execution_count": null
  },
  {
   "cell_type": "code",
   "id": "2b705e42-5cad-49ed-8a3b-62e7ceecf988",
   "metadata": {},
   "source": [
    "print(VideoStreamingJob.list_values)"
   ],
   "outputs": [],
   "execution_count": null
  },
  {
   "cell_type": "code",
   "id": "f5fd6c89-9007-49f6-82fd-c925c231a2c1",
   "metadata": {},
   "source": [
    "# Now it’s easy to add a 1 hour 1080p streaming job to our streaming service\n",
    "streaming_job = VideoStreamingJob.from_defaults(\n",
    "    \"streaming job\", service=video_streaming_service, resolution=SourceObject(\"1080p (1920 x 1080)\"), \n",
    "    video_duration=SourceValue(20 * u.min))\n",
    "\n",
    "# For optimization purposes calculations are only made when usage data has been entered but we can force\n",
    "# some of them to see what the VideoStreamingJob does.\n",
    "streaming_job.update_dynamic_bitrate()\n",
    "streaming_job.update_data_transferred()\n",
    "streaming_job.update_compute_needed()\n",
    "streaming_job.update_ram_needed()\n",
    "\n",
    "print(streaming_job)"
   ],
   "outputs": [],
   "execution_count": null
  },
  {
   "cell_type": "markdown",
   "id": "a50fb33d-da9d-48d3-a532-56d2958cd4ff",
   "metadata": {},
   "source": [
    "### Web application service\n",
    "\n",
    "In the same vein, we can install a web application service on our server. e-footprint’s WebApplication service relies on the analysis of [Boavizta’s ecobenchmark project](https://github.com/Boavizta/ecobenchmark-applicationweb-backend)."
   ]
  },
  {
   "cell_type": "code",
   "id": "c032d194-bb7a-4034-beae-7a12f2ca7f8d",
   "metadata": {},
   "source": [
    "from efootprint.builders.services.web_application import WebApplication, WebApplicationJob\n",
    "\n",
    "web_app_service = WebApplication(\"Web app\", server=server, technology=SourceObject(\"php-symfony\"))\n",
    "web_app_job = WebApplicationJob.from_defaults(\"fetching web view\", service=web_app_service)\n",
    "web_app_job.update_compute_needed()\n",
    "web_app_job.update_ram_needed()\n",
    "\n",
    "print(web_app_service)\n",
    "print(web_app_job)"
   ],
   "outputs": [],
   "execution_count": null
  },
  {
   "cell_type": "markdown",
   "id": "cc81bf1b-763e-4e5f-86e0-67e89c86f659",
   "metadata": {},
   "source": [
    "## Define the user journey\n",
    "\n",
    "This is the modeling of the average daily usage of the streaming platform in France:"
   ]
  },
  {
   "cell_type": "code",
   "id": "83f1191a-f493-412b-8d44-c740828de778",
   "metadata": {},
   "source": [
    "streaming_step = UsageJourneyStep(\n",
    "    \"20 min streaming\",\n",
    "    user_time_spent=SourceValue(20 * u.min, Sources.USER_DATA),\n",
    "    jobs=[web_app_job, streaming_job])\n",
    "\n",
    "video_upload_job = Job(\n",
    "    \"upload job\", server=server, data_transferred=SourceValue(20 * u.MB, Sources.USER_DATA),\n",
    "    data_stored=SourceValue(20 * u.MB, Sources.USER_DATA),\n",
    "    request_duration=SourceValue(2 * u.s, Sources.HYPOTHESIS),\n",
    "    compute_needed=SourceValue(1 * u.cpu_core, Sources.HYPOTHESIS),\n",
    "    ram_needed=SourceValue(50 * u.MB, Sources.HYPOTHESIS))\n",
    "\n",
    "upload_step = UsageJourneyStep(\n",
    "    \"1 min video capture then upload\",\n",
    "    user_time_spent=SourceValue(70 * u.s, Sources.USER_DATA),\n",
    "    jobs=[web_app_job, video_upload_job])"
   ],
   "outputs": [],
   "execution_count": null
  },
  {
   "cell_type": "markdown",
   "id": "5ea271b2-80dc-4954-b26e-04b76b1f0490",
   "metadata": {},
   "source": [
    "The user journey is then simply a list of user journey steps:"
   ]
  },
  {
   "cell_type": "code",
   "id": "d7a256df-b9bf-4f5c-a1d7-884aea4283a9",
   "metadata": {},
   "source": [
    "user_journey = UsageJourney(\"Mean video consumption user journey\", uj_steps=[streaming_step, upload_step])"
   ],
   "outputs": [],
   "execution_count": null
  },
  {
   "cell_type": "markdown",
   "id": "f143aef6-1475-45ec-9f3f-588ebf5a6ce6",
   "metadata": {},
   "source": [
    "## Describe usage"
   ]
  },
  {
   "cell_type": "markdown",
   "id": "142aaab5-ce25-4998-94bd-1c9aab96999f",
   "metadata": {},
   "source": [
    "An e-footprint usage pattern links a user journey to devices that run it, a network, a country, and the number of times the user journey gets executed hour by hour. "
   ]
  },
  {
   "cell_type": "code",
   "id": "acd95f80-fe6b-46d8-ba0f-89671f6b11f1",
   "metadata": {},
   "source": [
    "# Let’s build synthetic usage data by summing a linear growth with a sinusoidal fluctuation components, then adding daily variation\n",
    "from datetime import datetime, timedelta\n",
    "\n",
    "from efootprint.builders.time_builders import linear_growth_hourly_values\n",
    "\n",
    "start_date = datetime.strptime(\"2025-01-01\", \"%Y-%m-%d\")\n",
    "timespan = 3 * u.year\n",
    "\n",
    "linear_growth = linear_growth_hourly_values(timespan, start_value=5000, end_value=100000, start_date=start_date)\n",
    "linear_growth.set_label(\"Hourly user journeys linear growth component\")\n",
    "\n",
    "linear_growth.plot()"
   ],
   "outputs": [],
   "execution_count": null
  },
  {
   "cell_type": "code",
   "id": "b0e86400-80c6-407c-9dad-acf27005814c",
   "metadata": {},
   "source": [
    "from efootprint.builders.time_builders import sinusoidal_fluct_hourly_values\n",
    "\n",
    "sinusoidal_fluct = sinusoidal_fluct_hourly_values(\n",
    "    timespan, sin_fluct_amplitude=3000, sin_fluct_period_in_hours=3 * 30 * 24, start_date=start_date)\n",
    "\n",
    "lin_growth_plus_sin_fluct = (linear_growth + sinusoidal_fluct).set_label(\"Hourly user journeys linear growth with sinusoidal fluctuations\")\n",
    "\n",
    "lin_growth_plus_sin_fluct.plot()"
   ],
   "outputs": [],
   "execution_count": null
  },
  {
   "cell_type": "code",
   "id": "4cc06ea4-75fd-4b0b-abe9-d27cd38be958",
   "metadata": {},
   "source": [
    "# Let’s add daily variations because people use the system less at night\n",
    "from efootprint.builders.time_builders import daily_fluct_hourly_values\n",
    "\n",
    "daily_fluct = daily_fluct_hourly_values(timespan, fluct_scale=0.8, hour_of_day_for_min_value=4, start_date=start_date)\n",
    "daily_fluct.set_label(\"Daily volume fluctuation\")\n",
    "\n",
    "daily_fluct.plot(xlims=[start_date, start_date+timedelta(days=1)])"
   ],
   "outputs": [],
   "execution_count": null
  },
  {
   "cell_type": "code",
   "id": "6a62831c-159b-4b15-8499-fcaba3795b8d",
   "metadata": {},
   "source": [
    "hourly_user_journey_starts = lin_growth_plus_sin_fluct * daily_fluct\n",
    "hourly_user_journey_starts.set_label(\"Hourly number of user journey started\")\n",
    "\n",
    "hourly_user_journey_starts.plot(xlims=[start_date, start_date + timedelta(days=7)])"
   ],
   "outputs": [],
   "execution_count": null
  },
  {
   "cell_type": "code",
   "id": "5017cb03-827b-4441-b9a0-8b1022625a85",
   "metadata": {},
   "source": [
    "# Over 3 years the daily fluctuations color the area between daily min and max number of hourly user journeys\n",
    "hourly_user_journey_starts.plot()"
   ],
   "outputs": [],
   "execution_count": null
  },
  {
   "cell_type": "code",
   "id": "477fd54c-f41d-4c3e-a76a-fb6bd48f53e2",
   "metadata": {},
   "source": [
    "network = Network(\n",
    "        \"WIFI network\",\n",
    "        bandwidth_energy_intensity=SourceValue(0.05 * u(\"kWh/GB\"), Sources.TRAFICOM_STUDY))\n",
    "\n",
    "usage_pattern = UsagePattern(\n",
    "    \"Daily video streaming consumption\",\n",
    "    usage_journey=user_journey,\n",
    "    devices=[Device.laptop()],\n",
    "    network=network,\n",
    "    country=Countries.FRANCE(),\n",
    "    hourly_usage_journey_starts=hourly_user_journey_starts)\n",
    "\n",
    "system = System(\"System\", usage_patterns=[usage_pattern], edge_usage_patterns=[])"
   ],
   "outputs": [],
   "execution_count": null
  },
  {
   "cell_type": "markdown",
   "id": "83ec6579-be6a-40ff-bed2-ea4c18062841",
   "metadata": {},
   "source": [
    "## Results\n",
    "\n",
    "### Computed attributes\n",
    "\n",
    "Now all calculated_attributes have been computed:"
   ]
  },
  {
   "cell_type": "code",
   "id": "0c7aabec-8d2e-439f-af33-1f927bcb4b1b",
   "metadata": {},
   "source": [
    "print(server)"
   ],
   "outputs": [],
   "execution_count": null
  },
  {
   "cell_type": "markdown",
   "id": "e7150f8f-a2a3-4490-b099-5c658f963d83",
   "metadata": {},
   "source": [
    "### System footprint overview"
   ]
  },
  {
   "cell_type": "code",
   "id": "ad25abdc-dbae-4bc1-97d4-489786e228be",
   "metadata": {},
   "source": [
    "system.plot_footprints_by_category_and_object(\"System footprints.html\")"
   ],
   "outputs": [],
   "execution_count": null
  },
  {
   "cell_type": "markdown",
   "id": "3af39658-b218-4000-b8c8-f5aa3c3e6a36",
   "metadata": {},
   "source": [
    "### Object relationships graph"
   ]
  },
  {
   "cell_type": "markdown",
   "id": "e5e7dc01-ab3e-401c-9cdc-b2cade345c6e",
   "metadata": {},
   "source": [
    "Hover over a node to get the numerical values of its environmental and technical attributes. For simplifying the graph the Network and Hardware nodes are not shown."
   ]
  },
  {
   "cell_type": "code",
   "id": "5eb42a32-b6bd-4809-a438-a40b341bc218",
   "metadata": {},
   "source": [
    "from efootprint.utils.object_relationships_graphs import USAGE_PATTERN_VIEW_CLASSES_TO_IGNORE, INFRA_VIEW_CLASSES_TO_IGNORE\n",
    "\n",
    "usage_pattern.object_relationship_graph_to_file(\"object_relationships_graph_up_view.html\", width=\"800px\", height=\"500px\",\n",
    "    classes_to_ignore=USAGE_PATTERN_VIEW_CLASSES_TO_IGNORE, notebook=True)"
   ],
   "outputs": [],
   "execution_count": null
  },
  {
   "cell_type": "code",
   "id": "167fd279-6447-4fb8-bc25-b323a7a4ace7",
   "metadata": {},
   "source": [
    "usage_pattern.object_relationship_graph_to_file(\"object_relationships_graph_infra_view.html\", width=\"800px\", height=\"500px\",\n",
    "    classes_to_ignore=INFRA_VIEW_CLASSES_TO_IGNORE, notebook=True)"
   ],
   "outputs": [],
   "execution_count": null
  },
  {
   "cell_type": "code",
   "id": "ce647136-020e-4e75-8bf5-0bf1d38ede7c",
   "metadata": {},
   "source": [
    "usage_pattern.object_relationship_graph_to_file(\"object_relationships_graph_all_objects.html\", width=\"800px\", height=\"500px\",\n",
    "    classes_to_ignore=[], notebook=True)"
   ],
   "outputs": [],
   "execution_count": null
  },
  {
   "cell_type": "markdown",
   "id": "7effc658-1791-4bac-9158-0035c887cd52",
   "metadata": {},
   "source": [
    "### Calculus graph\n",
    "\n",
    "Any e-footprint calculation can generate its calculation graph for full auditability. Hover on a calculus node to display its formula and numeric value."
   ]
  },
  {
   "cell_type": "code",
   "id": "e39717bc-d3b5-4512-9ee4-2cbd1a500de6",
   "metadata": {},
   "source": [
    "usage_pattern.devices_fabrication_footprint.calculus_graph_to_file(\n",
    "    \"device_population_fab_footprint_calculus_graph.html\", width=\"800px\", height=\"500px\", notebook=True)"
   ],
   "outputs": [],
   "execution_count": null
  },
  {
   "cell_type": "markdown",
   "id": "0a07913f-4350-46d9-920c-91c85b907bb9",
   "metadata": {},
   "source": [
    "### Plotting an object’s hourly and cumulated CO2 emissions"
   ]
  },
  {
   "cell_type": "code",
   "id": "8bda99fb-e1b4-4312-af00-65d2b90f3cfc",
   "metadata": {},
   "source": [
    "server.energy_footprint.plot()"
   ],
   "outputs": [],
   "execution_count": null
  },
  {
   "cell_type": "code",
   "id": "1ca9919d-f28c-4eba-9b59-6c2b2c105a49",
   "metadata": {},
   "source": [
    "server.energy_footprint.plot(cumsum=True)"
   ],
   "outputs": [],
   "execution_count": null
  },
  {
   "cell_type": "code",
   "id": "1e12b629-7b14-4c31-a537-19da8c4b355a",
   "metadata": {},
   "source": [
    "system.total_footprint.plot(cumsum=True)"
   ],
   "outputs": [],
   "execution_count": null
  },
  {
   "cell_type": "markdown",
   "id": "bf9abcb8-3201-41f6-8cf0-648b59fdc3ab",
   "metadata": {},
   "source": [
    "## Analysing the impact of a change\n",
    "### Numeric input change\n",
    "Any input change automatically triggers the computation of calculations that depend on the input. For example, let’s say that the average data download consumption of the streaming step decreased because of a change in default video quality:"
   ]
  },
  {
   "cell_type": "code",
   "id": "761c89aa-3803-4f5a-835b-831fda75e925",
   "metadata": {},
   "source": [
    "streaming_job.resolution = SourceObject(\"720p (1280 x 720)\", Sources.USER_DATA)"
   ],
   "outputs": [],
   "execution_count": null
  },
  {
   "cell_type": "code",
   "id": "a064f21b-bbae-4d08-ba29-cf998d24a1c3",
   "metadata": {},
   "source": [
    "system.plot_emission_diffs(\"bandwith reduction.png\")"
   ],
   "outputs": [],
   "execution_count": null
  },
  {
   "cell_type": "markdown",
   "id": "4f49bfb6-5274-484c-9a6f-ae3965916ecc",
   "metadata": {},
   "source": [
    "### System structure change\n",
    "Now let’s make a more complex change, like adding a conversation with a generative AI chatbot before streaming the video.\n",
    "We will use e-footprint’s GenAIModel object that fetches LLM data like number of parameters from [EcoLogits](https://github.com/genai-impact/ecologits)."
   ]
  },
  {
   "cell_type": "code",
   "id": "49375eaf-d9b7-4ebf-b6f4-758fe8b7e338",
   "metadata": {},
   "source": [
    "# GenAI models need a GPU server\n",
    "from efootprint.core.hardware.gpu_server import GPUServer\n",
    "from efootprint.builders.services.generative_ai_ecologits import GenAIModel\n",
    "\n",
    "llm_server = GPUServer.from_defaults(\"Inference GPU server\", server_type=ServerTypes.serverless(), compute=SourceValue(16 * u.gpu),\n",
    "                                    storage=Storage.ssd(storage_capacity=SourceValue(1 * u.TB)))\n",
    "genai_model = GenAIModel.from_defaults(\n",
    "    \"Openai’s gpt-4o\", server=llm_server, \n",
    "    provider=SourceObject(\"openai\"), model_name=SourceObject(\"gpt-4o\"))"
   ],
   "outputs": [],
   "execution_count": null
  },
  {
   "cell_type": "code",
   "id": "ade1089e-7371-4beb-8bb4-0007a269e447",
   "metadata": {},
   "source": [
    "from efootprint.builders.services.generative_ai_ecologits import GenAIJob\n",
    "\n",
    "genai_job = GenAIJob(\"LLM API call\", genai_model, output_token_count= SourceValue(1000 * u.dimensionless))\n",
    "llm_chat_step = UsageJourneyStep(\n",
    "    \"Chat with LLM to select video\", user_time_spent=SourceValue(1 * u.min, Sources.HYPOTHESIS),\n",
    "    jobs=[genai_job])"
   ],
   "outputs": [],
   "execution_count": null
  },
  {
   "cell_type": "code",
   "id": "9f788d83-07f4-47c3-9aeb-7a6063f74c49",
   "metadata": {},
   "source": [
    "# Adding the new step is simply an attribute update.\n",
    "user_journey.uj_steps.append(llm_chat_step)"
   ],
   "outputs": [],
   "execution_count": null
  },
  {
   "cell_type": "code",
   "id": "95182422-21a4-4e06-a2cf-ab965a24d843",
   "metadata": {},
   "source": [
    "system.plot_emission_diffs(\"LLM chat addition.png\")"
   ],
   "outputs": [],
   "execution_count": null
  },
  {
   "cell_type": "markdown",
   "id": "8ee70991-25f7-4d7f-8add-fc5d0a5cc96f",
   "metadata": {},
   "source": [
    "We can see that server energy footprint has been multiplied by more than 1000 and the rest of the impact is quite negligible. Good to know to make informed decisions ! Of course the impact is very much dependent on assumptions. If the LLM server ran on low-carbon electricity for example:"
   ]
  },
  {
   "cell_type": "code",
   "id": "73667e80-8c11-41a7-a466-196b5209da21",
   "metadata": {},
   "source": [
    "llm_server.average_carbon_intensity = SourceValue(50 * u.g / u.kWh, Sources.HYPOTHESIS)\n",
    "system.plot_emission_diffs(\"lower LLM inference carbon intensity.png\")"
   ],
   "outputs": [],
   "execution_count": null
  },
  {
   "cell_type": "markdown",
   "id": "199a8c17-b7fc-45dc-98d7-1f4c532ef9f6",
   "metadata": {},
   "source": [
    "## Recap of all System changes"
   ]
  },
  {
   "cell_type": "code",
   "id": "94e8fd22-628b-4e3d-833f-461b6284481b",
   "metadata": {},
   "source": [
    "system.plot_emission_diffs(\"All system diffs.png\", from_start=True)"
   ],
   "outputs": [],
   "execution_count": null
  },
  {
   "cell_type": "markdown",
   "id": "3dbf19e5-0d36-403a-9106-50feacb76cf6",
   "metadata": {},
   "source": [
    "## Making simulations of changes in the future\n",
    "\n",
    "We’ve seen that you can make changes in your modeling and analyse the differences, but most likely the changes you’re contemplating will happen at some point in the future. Let’s model a change in the future thanks to e-footprint’s ModelingUpdate object !"
   ]
  },
  {
   "cell_type": "code",
   "id": "79e03eb2-e390-4804-a089-3ee6ddb5e0e4",
   "metadata": {},
   "source": [
    "# Let’s first revert the system to its state before changes\n",
    "# We can make optimized batch changes by using the ModelingUpdate object, that is also used to make simulations of changes in the future\n",
    "from efootprint.abstract_modeling_classes.modeling_update import ModelingUpdate\n",
    "\n",
    "ModelingUpdate([\n",
    "    [user_journey.uj_steps, [streaming_step, upload_step]],\n",
    "    [llm_server.average_carbon_intensity, SourceValue(300 * u.g / u.kWh, Sources.HYPOTHESIS)],\n",
    "    [streaming_job.resolution, SourceObject(\"1080p (1920 x 1080)\")]\n",
    "])\n",
    "\n",
    "system.plot_footprints_by_category_and_object(\"System footprints after reset.html\")"
   ],
   "outputs": [],
   "execution_count": null
  },
  {
   "cell_type": "code",
   "id": "bccb5c4a-04d4-49b3-a950-91067c55c98d",
   "metadata": {},
   "source": [
    "# To create a simulation, which is a change in the future, simply set ModelingUpdate’s simulation_date parameter\n",
    "import pytz\n",
    "from datetime import timezone\n",
    "\n",
    "simulation = ModelingUpdate([[user_journey.uj_steps, [streaming_step, upload_step, llm_chat_step]]],\n",
    "                           simulation_date=pytz.utc.localize(start_date) + timedelta(days=365))"
   ],
   "outputs": [],
   "execution_count": null
  },
  {
   "cell_type": "code",
   "id": "721ba588-61d1-4be7-862e-4068466c8756",
   "metadata": {},
   "source": [
    "system.total_footprint.plot(cumsum=True)"
   ],
   "outputs": [],
   "execution_count": null
  },
  {
   "cell_type": "code",
   "id": "f2c8e382-71dd-4ffa-91ab-84d91b3fcc86",
   "metadata": {},
   "source": [
    "llm_server.energy_footprint.plot(cumsum=True)"
   ],
   "outputs": [],
   "execution_count": null
  },
  {
   "cell_type": "code",
   "id": "adce91f3-84b2-4dde-8807-5818e7d85665",
   "metadata": {},
   "source": [
    "# The system state is reset to baseline after the simulation.\n",
    "# For example, our LLM server has no energy footprint since it is not used in the baseline modeling\n",
    "llm_server.energy_footprint"
   ],
   "outputs": [],
   "execution_count": null
  },
  {
   "cell_type": "code",
   "id": "adab4541-9773-43c7-8775-22e976895dd7",
   "metadata": {},
   "source": [
    "# To set simulation values, use ModelingUpdate’s set_updated_values method\n",
    "simulation.set_updated_values()\n",
    "llm_server.energy_footprint"
   ],
   "outputs": [],
   "execution_count": null
  },
  {
   "cell_type": "code",
   "id": "2b5d3613-9200-4f63-b0de-e8117d9cda4a",
   "metadata": {},
   "source": [
    "# Conversely, pre-update values are reset using ModelingUpdate’s reset_values method\n",
    "simulation.reset_values()\n",
    "llm_server.energy_footprint"
   ],
   "outputs": [],
   "execution_count": null
  },
  {
   "cell_type": "markdown",
   "id": "9414d069-911b-4477-bb9e-7eb4fe295cf3",
   "metadata": {},
   "source": [
    "# [Optional] Model edge devices\n",
    "The above modeling reflects a centralized web logic: the input usage is a business input (typically, the number of visits on a website), and the infrastructure has to be sized to meet the demand. But there are cases where the usage is actually proportional to a number of devices, typically when trying to model the impact of selling digital devices, like servers, smartphones or video game consoles. In this case, e-footprint edge objects allow for the description of usage per device, and number of devices sold / produced over the modeling period.\n",
    "\n",
    "## Define the edge device\n",
    "The EdgeStorage and EdgeDevice objects are similar to the Storage and Server objects, but simpler because they don’t have to include any autoscaling logic."
   ]
  },
  {
   "cell_type": "code",
   "id": "4f7e72fe-c34e-442a-995e-1e29caa65cef",
   "metadata": {},
   "source": [
    "from efootprint.core.hardware.edge_storage import EdgeStorage\n",
    "from efootprint.core.hardware.edge_device import EdgeDevice\n",
    "\n",
    "edge_storage = EdgeStorage(\n",
    "    \"Edge SSD storage\",\n",
    "    carbon_footprint_fabrication_per_storage_capacity=SourceValue(160 * u.kg / u.TB),\n",
    "    power_per_storage_capacity=SourceValue(1.3 * u.W / u.TB),\n",
    "    lifespan=SourceValue(6 * u.years),\n",
    "    idle_power=SourceValue(0.1 * u.W),\n",
    "    storage_capacity=SourceValue(256 * u.GB),\n",
    "    base_storage_need=SourceValue(10 * u.GB),\n",
    ")\n",
    "\n",
    "edge_device = EdgeDevice(\n",
    "    \"Edge device\",\n",
    "    carbon_footprint_fabrication=SourceValue(60 * u.kg),\n",
    "    power=SourceValue(30 * u.W),\n",
    "    lifespan=SourceValue(8 * u.year),\n",
    "    idle_power=SourceValue(5 * u.W),\n",
    "    ram=SourceValue(16 * u.GB),\n",
    "    compute=SourceValue(8 * u.cpu_core),\n",
    "    power_usage_effectiveness=SourceValue(1.0 * u.dimensionless),\n",
    "    utilization_rate=SourceValue(0.8 * u.dimensionless),\n",
    "    base_ram_consumption=SourceValue(1 * u.GB),\n",
    "    base_compute_consumption=SourceValue(0.1 * u.cpu_core),\n",
    "    storage=edge_storage\n",
    ")"
   ],
   "outputs": [],
   "execution_count": null
  },
  {
   "cell_type": "markdown",
   "id": "9cea9367-1337-4ef5-8761-cb3c710dc16b",
   "metadata": {},
   "source": [
    "## Define the edge usage journey with the processes that run on the edge device\n",
    "The EdgeUsageJourney object associate a list of RecurrentEdgeProcesses to an EdgeDevice object, over a usage span. The RecurrentEdgeProcess object describes the usage of compute, RAM and storage on the EdgeDevice object by describing hourly usage in a canonical week starting at midnight on a Monday local time."
   ]
  },
  {
   "cell_type": "code",
   "id": "622354e1-36a2-41f5-95c5-c4139d91528b",
   "metadata": {},
   "source": [
    "import numpy as np\n",
    "from pint import Quantity\n",
    "\n",
    "from efootprint.abstract_modeling_classes.source_objects import SourceRecurringValues\n",
    "from efootprint.core.usage.recurrent_edge_process import RecurrentEdgeProcess\n",
    "from efootprint.core.usage.edge_usage_journey import EdgeUsageJourney\n",
    "\n",
    "edge_process = RecurrentEdgeProcess(\n",
    "    \"Edge process\",\n",
    "    recurrent_compute_needed=SourceRecurringValues(\n",
    "        Quantity(np.array([1] * 168, dtype=np.float32), u.cpu_core)), # 7 * 24 = 168 hours in the canonical week\n",
    "    recurrent_ram_needed=SourceRecurringValues(\n",
    "        Quantity(np.array([2] * 168, dtype=np.float32), u.GB)),\n",
    "    recurrent_storage_needed=SourceRecurringValues(\n",
    "        Quantity(np.array([200] * 168, dtype=np.float32), u.kB))\n",
    ")\n",
    "\n",
    "edge_usage_journey = EdgeUsageJourney(\n",
    "    \"Edge usage journey\",\n",
    "    edge_processes=[edge_process],\n",
    "    edge_device=edge_device,\n",
    "    usage_span=SourceValue(6 * u.year)\n",
    ")"
   ],
   "outputs": [],
   "execution_count": null
  },
  {
   "cell_type": "markdown",
   "id": "677d6186-61fa-4e31-8c61-4345c9b7d2fe",
   "metadata": {},
   "source": [
    "## Define the edge usage pattern\n",
    "The EdgeUsagePattern object specifies the number of edge devices that are emitted in a given countrey across time, through its *hourly_edge_usage_journey_starts* parameter. It could be for example the sales projection of a video game console seller. It is then linked to a System through System’s edge_usage_patterns parameter, just like web usage patterns are linked to a System through the usage_patterns parameter. That way, web and edge objects can coexist in the same simulation."
   ]
  },
  {
   "cell_type": "code",
   "id": "e58787e1-2420-484c-b320-f5d366c453a7",
   "metadata": {},
   "source": [
    "from efootprint.builders.time_builders import create_hourly_usage_from_frequency\n",
    "from efootprint.core.usage.edge_usage_pattern import EdgeUsagePattern\n",
    "\n",
    "edge_usage_pattern = EdgeUsagePattern(\n",
    "    \"Edge usage pattern\",\n",
    "    edge_usage_journey=edge_usage_journey,\n",
    "    country=Countries.FRANCE(),\n",
    "    hourly_edge_usage_journey_starts=create_hourly_usage_from_frequency(\n",
    "        timespan=5 * u.year, input_volume=10, frequency='weekly',\n",
    "        active_days=[0, 1, 2, 3, 4, 5], hours=[9, 10, 11, 12, 15, 16, 17, 18, 19])\n",
    ")\n",
    "\n",
    "system.edge_usage_patterns = [edge_usage_pattern]\n",
    "\n",
    "system.plot_footprints_by_category_and_object(\"System with edge objects footprints.html\")"
   ],
   "outputs": [],
   "execution_count": null
  },
  {
   "cell_type": "code",
   "id": "1668d9e3-f594-41cb-a941-42f620ab3243",
   "metadata": {},
   "source": [
    "system.plot_emission_diffs(\"Add edge objects.png\")"
   ],
   "outputs": [],
   "execution_count": null
  },
  {
   "cell_type": "code",
   "id": "21de07aa-d1cc-46c5-8f64-d256c696107d",
   "metadata": {},
   "source": [
    "system.object_relationship_graph_to_file(\"system_with_edge_objects_graph_up_view.html\", width=\"800px\", height=\"500px\",\n",
    "    classes_to_ignore=USAGE_PATTERN_VIEW_CLASSES_TO_IGNORE, notebook=True)"
   ],
   "outputs": [],
   "execution_count": null
  },
  {
   "cell_type": "code",
   "id": "dcd4dee1-b685-4231-ada1-a1f85a5cac40",
   "metadata": {},
   "source": [
    "system.object_relationship_graph_to_file(\"system_with_edge_objects_graph_infra_view.html\", width=\"800px\", height=\"500px\",\n",
    "    classes_to_ignore=INFRA_VIEW_CLASSES_TO_IGNORE, notebook=True)"
   ],
   "outputs": [],
   "execution_count": null
  }
 ],
 "metadata": {
  "kernelspec": {
   "display_name": "efootprint-kernel",
   "language": "python",
   "name": "efootprint-kernel"
  },
  "language_info": {
   "codemirror_mode": {
    "name": "ipython",
    "version": 3
   },
   "file_extension": ".py",
   "mimetype": "text/x-python",
   "name": "python",
   "nbconvert_exporter": "python",
   "pygments_lexer": "ipython3",
   "version": "3.13.5"
  }
 },
 "nbformat": 4,
 "nbformat_minor": 5
}
