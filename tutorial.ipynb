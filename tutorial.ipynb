{
 "cells": [
  {
   "cell_type": "markdown",
   "id": "6bc9b591-b971-4e01-b2a4-3b2ac48b7f8d",
   "metadata": {},
   "source": [
    "# e-footprint quickstart"
   ]
  },
  {
   "cell_type": "markdown",
   "id": "99e47f8f-5f96-434a-9418-7d23500b8ee2",
   "metadata": {},
   "source": [
    "This notebook provides an example scenario that you can use to get familiar with the Python API of efootprint: the daily video consumption of all French households on a big streaming platform.\n",
    "\n",
    "You will get to describe:\n",
    "\n",
    "- the infrastructure involved (servers with auto-scaling settings, storage and network)\n",
    "- the user journey involving 2 steps (Streaming, Upload)\n",
    "- the usage pattern and the device population that executes it (the laptops of all French households)"
   ]
  },
  {
   "cell_type": "markdown",
   "id": "899edb61-e0fb-4923-a542-34c81e66ddb1",
   "metadata": {},
   "source": [
    "## Import the packages\n",
    "\n",
    "⚠ If this steps fails, remember to run *ipython kernel install --user --name=efootprint-kernel* _inside_ your python virtual environement (initializable with `poetry install`) to be able to select efootprint-kernel as the jupyter kernel."
   ]
  },
  {
   "cell_type": "code",
   "execution_count": 1,
   "id": "9b157707-3bd3-4e82-899c-0beaec098386",
   "metadata": {
    "scrolled": true
   },
   "outputs": [
    {
     "name": "stdout",
     "output_type": "stream",
     "text": [
      "Requirement already satisfied: efootprint in /Users/vincentvillet/Library/Caches/pypoetry/virtualenvs/efootprint-DvRIyG39-py3.12/lib/python3.12/site-packages (7.0.0)\n",
      "Requirement already satisfied: Pint-Pandas<0.7,>=0.6 in /Users/vincentvillet/Library/Caches/pypoetry/virtualenvs/efootprint-DvRIyG39-py3.12/lib/python3.12/site-packages (from efootprint) (0.6)\n",
      "Requirement already satisfied: matplotlib==3.8 in /Users/vincentvillet/Library/Caches/pypoetry/virtualenvs/efootprint-DvRIyG39-py3.12/lib/python3.12/site-packages (from efootprint) (3.8.0)\n",
      "Requirement already satisfied: pandas==2.2 in /Users/vincentvillet/Library/Caches/pypoetry/virtualenvs/efootprint-DvRIyG39-py3.12/lib/python3.12/site-packages (from efootprint) (2.2.0)\n",
      "Requirement already satisfied: pint==0.23 in /Users/vincentvillet/Library/Caches/pypoetry/virtualenvs/efootprint-DvRIyG39-py3.12/lib/python3.12/site-packages (from efootprint) (0.23)\n",
      "Requirement already satisfied: plotly==5.19 in /Users/vincentvillet/Library/Caches/pypoetry/virtualenvs/efootprint-DvRIyG39-py3.12/lib/python3.12/site-packages (from efootprint) (5.19.0)\n",
      "Requirement already satisfied: pytz==2024.1 in /Users/vincentvillet/Library/Caches/pypoetry/virtualenvs/efootprint-DvRIyG39-py3.12/lib/python3.12/site-packages (from efootprint) (2024.1)\n",
      "Requirement already satisfied: pyvis==0.3.2 in /Users/vincentvillet/Library/Caches/pypoetry/virtualenvs/efootprint-DvRIyG39-py3.12/lib/python3.12/site-packages (from efootprint) (0.3.2)\n",
      "Requirement already satisfied: requests==2.31 in /Users/vincentvillet/Library/Caches/pypoetry/virtualenvs/efootprint-DvRIyG39-py3.12/lib/python3.12/site-packages (from efootprint) (2.31.0)\n",
      "Requirement already satisfied: contourpy>=1.0.1 in /Users/vincentvillet/Library/Caches/pypoetry/virtualenvs/efootprint-DvRIyG39-py3.12/lib/python3.12/site-packages (from matplotlib==3.8->efootprint) (1.3.0)\n",
      "Requirement already satisfied: cycler>=0.10 in /Users/vincentvillet/Library/Caches/pypoetry/virtualenvs/efootprint-DvRIyG39-py3.12/lib/python3.12/site-packages (from matplotlib==3.8->efootprint) (0.12.1)\n",
      "Requirement already satisfied: fonttools>=4.22.0 in /Users/vincentvillet/Library/Caches/pypoetry/virtualenvs/efootprint-DvRIyG39-py3.12/lib/python3.12/site-packages (from matplotlib==3.8->efootprint) (4.55.3)\n",
      "Requirement already satisfied: kiwisolver>=1.0.1 in /Users/vincentvillet/Library/Caches/pypoetry/virtualenvs/efootprint-DvRIyG39-py3.12/lib/python3.12/site-packages (from matplotlib==3.8->efootprint) (1.4.7)\n",
      "Requirement already satisfied: numpy<2,>=1.21 in /Users/vincentvillet/Library/Caches/pypoetry/virtualenvs/efootprint-DvRIyG39-py3.12/lib/python3.12/site-packages (from matplotlib==3.8->efootprint) (1.26.4)\n",
      "Requirement already satisfied: packaging>=20.0 in /Users/vincentvillet/Library/Caches/pypoetry/virtualenvs/efootprint-DvRIyG39-py3.12/lib/python3.12/site-packages (from matplotlib==3.8->efootprint) (24.2)\n",
      "Requirement already satisfied: pillow>=6.2.0 in /Users/vincentvillet/Library/Caches/pypoetry/virtualenvs/efootprint-DvRIyG39-py3.12/lib/python3.12/site-packages (from matplotlib==3.8->efootprint) (11.1.0)\n",
      "Requirement already satisfied: pyparsing>=2.3.1 in /Users/vincentvillet/Library/Caches/pypoetry/virtualenvs/efootprint-DvRIyG39-py3.12/lib/python3.12/site-packages (from matplotlib==3.8->efootprint) (3.2.1)\n",
      "Requirement already satisfied: python-dateutil>=2.7 in /Users/vincentvillet/Library/Caches/pypoetry/virtualenvs/efootprint-DvRIyG39-py3.12/lib/python3.12/site-packages (from matplotlib==3.8->efootprint) (2.9.0.post0)\n",
      "Requirement already satisfied: tzdata>=2022.7 in /Users/vincentvillet/Library/Caches/pypoetry/virtualenvs/efootprint-DvRIyG39-py3.12/lib/python3.12/site-packages (from pandas==2.2->efootprint) (2024.2)\n",
      "Requirement already satisfied: typing-extensions in /Users/vincentvillet/Library/Caches/pypoetry/virtualenvs/efootprint-DvRIyG39-py3.12/lib/python3.12/site-packages (from pint==0.23->efootprint) (4.12.2)\n",
      "Requirement already satisfied: tenacity>=6.2.0 in /Users/vincentvillet/Library/Caches/pypoetry/virtualenvs/efootprint-DvRIyG39-py3.12/lib/python3.12/site-packages (from plotly==5.19->efootprint) (9.0.0)\n",
      "Requirement already satisfied: ipython>=5.3.0 in /Users/vincentvillet/Library/Caches/pypoetry/virtualenvs/efootprint-DvRIyG39-py3.12/lib/python3.12/site-packages (from pyvis==0.3.2->efootprint) (8.18.1)\n",
      "Requirement already satisfied: jinja2>=2.9.6 in /Users/vincentvillet/Library/Caches/pypoetry/virtualenvs/efootprint-DvRIyG39-py3.12/lib/python3.12/site-packages (from pyvis==0.3.2->efootprint) (3.1.5)\n",
      "Requirement already satisfied: jsonpickle>=1.4.1 in /Users/vincentvillet/Library/Caches/pypoetry/virtualenvs/efootprint-DvRIyG39-py3.12/lib/python3.12/site-packages (from pyvis==0.3.2->efootprint) (4.0.1)\n",
      "Requirement already satisfied: networkx>=1.11 in /Users/vincentvillet/Library/Caches/pypoetry/virtualenvs/efootprint-DvRIyG39-py3.12/lib/python3.12/site-packages (from pyvis==0.3.2->efootprint) (3.2.1)\n",
      "Requirement already satisfied: charset-normalizer<4,>=2 in /Users/vincentvillet/Library/Caches/pypoetry/virtualenvs/efootprint-DvRIyG39-py3.12/lib/python3.12/site-packages (from requests==2.31->efootprint) (3.4.1)\n",
      "Requirement already satisfied: idna<4,>=2.5 in /Users/vincentvillet/Library/Caches/pypoetry/virtualenvs/efootprint-DvRIyG39-py3.12/lib/python3.12/site-packages (from requests==2.31->efootprint) (3.10)\n",
      "Requirement already satisfied: urllib3<3,>=1.21.1 in /Users/vincentvillet/Library/Caches/pypoetry/virtualenvs/efootprint-DvRIyG39-py3.12/lib/python3.12/site-packages (from requests==2.31->efootprint) (2.3.0)\n",
      "Requirement already satisfied: certifi>=2017.4.17 in /Users/vincentvillet/Library/Caches/pypoetry/virtualenvs/efootprint-DvRIyG39-py3.12/lib/python3.12/site-packages (from requests==2.31->efootprint) (2024.12.14)\n",
      "Requirement already satisfied: decorator in /Users/vincentvillet/Library/Caches/pypoetry/virtualenvs/efootprint-DvRIyG39-py3.12/lib/python3.12/site-packages (from ipython>=5.3.0->pyvis==0.3.2->efootprint) (5.1.1)\n",
      "Requirement already satisfied: jedi>=0.16 in /Users/vincentvillet/Library/Caches/pypoetry/virtualenvs/efootprint-DvRIyG39-py3.12/lib/python3.12/site-packages (from ipython>=5.3.0->pyvis==0.3.2->efootprint) (0.19.2)\n",
      "Requirement already satisfied: matplotlib-inline in /Users/vincentvillet/Library/Caches/pypoetry/virtualenvs/efootprint-DvRIyG39-py3.12/lib/python3.12/site-packages (from ipython>=5.3.0->pyvis==0.3.2->efootprint) (0.1.7)\n",
      "Requirement already satisfied: prompt-toolkit<3.1.0,>=3.0.41 in /Users/vincentvillet/Library/Caches/pypoetry/virtualenvs/efootprint-DvRIyG39-py3.12/lib/python3.12/site-packages (from ipython>=5.3.0->pyvis==0.3.2->efootprint) (3.0.48)\n",
      "Requirement already satisfied: pygments>=2.4.0 in /Users/vincentvillet/Library/Caches/pypoetry/virtualenvs/efootprint-DvRIyG39-py3.12/lib/python3.12/site-packages (from ipython>=5.3.0->pyvis==0.3.2->efootprint) (2.19.1)\n",
      "Requirement already satisfied: stack-data in /Users/vincentvillet/Library/Caches/pypoetry/virtualenvs/efootprint-DvRIyG39-py3.12/lib/python3.12/site-packages (from ipython>=5.3.0->pyvis==0.3.2->efootprint) (0.6.3)\n",
      "Requirement already satisfied: traitlets>=5 in /Users/vincentvillet/Library/Caches/pypoetry/virtualenvs/efootprint-DvRIyG39-py3.12/lib/python3.12/site-packages (from ipython>=5.3.0->pyvis==0.3.2->efootprint) (5.14.3)\n",
      "Requirement already satisfied: pexpect>4.3 in /Users/vincentvillet/Library/Caches/pypoetry/virtualenvs/efootprint-DvRIyG39-py3.12/lib/python3.12/site-packages (from ipython>=5.3.0->pyvis==0.3.2->efootprint) (4.9.0)\n",
      "Requirement already satisfied: MarkupSafe>=2.0 in /Users/vincentvillet/Library/Caches/pypoetry/virtualenvs/efootprint-DvRIyG39-py3.12/lib/python3.12/site-packages (from jinja2>=2.9.6->pyvis==0.3.2->efootprint) (3.0.2)\n",
      "Requirement already satisfied: six>=1.5 in /Users/vincentvillet/Library/Caches/pypoetry/virtualenvs/efootprint-DvRIyG39-py3.12/lib/python3.12/site-packages (from python-dateutil>=2.7->matplotlib==3.8->efootprint) (1.17.0)\n",
      "Requirement already satisfied: parso<0.9.0,>=0.8.4 in /Users/vincentvillet/Library/Caches/pypoetry/virtualenvs/efootprint-DvRIyG39-py3.12/lib/python3.12/site-packages (from jedi>=0.16->ipython>=5.3.0->pyvis==0.3.2->efootprint) (0.8.4)\n",
      "Requirement already satisfied: ptyprocess>=0.5 in /Users/vincentvillet/Library/Caches/pypoetry/virtualenvs/efootprint-DvRIyG39-py3.12/lib/python3.12/site-packages (from pexpect>4.3->ipython>=5.3.0->pyvis==0.3.2->efootprint) (0.7.0)\n",
      "Requirement already satisfied: wcwidth in /Users/vincentvillet/Library/Caches/pypoetry/virtualenvs/efootprint-DvRIyG39-py3.12/lib/python3.12/site-packages (from prompt-toolkit<3.1.0,>=3.0.41->ipython>=5.3.0->pyvis==0.3.2->efootprint) (0.2.13)\n",
      "Requirement already satisfied: executing>=1.2.0 in /Users/vincentvillet/Library/Caches/pypoetry/virtualenvs/efootprint-DvRIyG39-py3.12/lib/python3.12/site-packages (from stack-data->ipython>=5.3.0->pyvis==0.3.2->efootprint) (2.1.0)\n",
      "Requirement already satisfied: asttokens>=2.1.0 in /Users/vincentvillet/Library/Caches/pypoetry/virtualenvs/efootprint-DvRIyG39-py3.12/lib/python3.12/site-packages (from stack-data->ipython>=5.3.0->pyvis==0.3.2->efootprint) (3.0.0)\n",
      "Requirement already satisfied: pure-eval in /Users/vincentvillet/Library/Caches/pypoetry/virtualenvs/efootprint-DvRIyG39-py3.12/lib/python3.12/site-packages (from stack-data->ipython>=5.3.0->pyvis==0.3.2->efootprint) (0.2.3)\n",
      "\n",
      "\u001b[1m[\u001b[0m\u001b[34;49mnotice\u001b[0m\u001b[1;39;49m]\u001b[0m\u001b[39;49m A new release of pip is available: \u001b[0m\u001b[31;49m24.0\u001b[0m\u001b[39;49m -> \u001b[0m\u001b[32;49m25.0\u001b[0m\n",
      "\u001b[1m[\u001b[0m\u001b[34;49mnotice\u001b[0m\u001b[1;39;49m]\u001b[0m\u001b[39;49m To update, run: \u001b[0m\u001b[32;49mpip install --upgrade pip\u001b[0m\n"
     ]
    }
   ],
   "source": [
    "# If this hasn’t been done in virtualenv (useful for Google colab notebook)\n",
    "!pip install efootprint"
   ]
  },
  {
   "cell_type": "code",
   "execution_count": 2,
   "id": "7c1757b9-ec0b-45d1-89cc-c18a9bf2f907",
   "metadata": {},
   "outputs": [],
   "source": [
    "import os\n",
    "\n",
    "from efootprint.abstract_modeling_classes.source_objects import SourceValue, Sources, SourceObject\n",
    "from efootprint.abstract_modeling_classes.explainable_objects import EmptyExplainableObject\n",
    "from efootprint.core.usage.user_journey import UserJourney\n",
    "from efootprint.core.usage.user_journey_step import UserJourneyStep\n",
    "from efootprint.core.usage.job import Job\n",
    "from efootprint.core.hardware.server import Server, ServerTypes\n",
    "from efootprint.core.hardware.storage import Storage\n",
    "from efootprint.core.usage.usage_pattern import UsagePattern\n",
    "from efootprint.core.hardware.network import Network\n",
    "from efootprint.core.system import System\n",
    "from efootprint.constants.countries import Countries\n",
    "from efootprint.constants.units import u\n",
    "from efootprint.utils.object_relationships_graphs import USAGE_PATTERN_VIEW_CLASSES_TO_IGNORE"
   ]
  },
  {
   "cell_type": "markdown",
   "id": "9ba31d91-0126-43bc-9617-9d5939d003bc",
   "metadata": {},
   "source": [
    "## Define the infrastructure"
   ]
  },
  {
   "cell_type": "markdown",
   "id": "ef0c8110-2d19-4acb-9274-8afd6cac9a0f",
   "metadata": {},
   "source": [
    "### Creating objects manually\n",
    "An e-footprint object has a name and attributes describing its technical and environmental characteristics:"
   ]
  },
  {
   "cell_type": "code",
   "execution_count": 3,
   "id": "7ea93fbb-f994-4338-a71b-bd2fc495cc5e",
   "metadata": {},
   "outputs": [],
   "source": [
    "storage = Storage(\n",
    "    \"SSD storage\",\n",
    "    carbon_footprint_fabrication_per_storage_capacity=SourceValue(160 * u.kg / u.TB, Sources.STORAGE_EMBODIED_CARBON_STUDY),\n",
    "    power_per_storage_capacity=SourceValue(1.3 * u.W / u.TB, Sources.STORAGE_EMBODIED_CARBON_STUDY),\n",
    "    lifespan=SourceValue(6 * u.years, Sources.HYPOTHESIS),\n",
    "    idle_power=SourceValue(0 * u.W, Sources.HYPOTHESIS),\n",
    "    storage_capacity=SourceValue(1 * u.TB, Sources.STORAGE_EMBODIED_CARBON_STUDY),\n",
    "    data_replication_factor=SourceValue(3 * u.dimensionless, Sources.HYPOTHESIS),\n",
    "    data_storage_duration = SourceValue(2 * u.year, Sources.HYPOTHESIS),\n",
    "    base_storage_need = SourceValue(100 * u.TB, Sources.HYPOTHESIS),\n",
    "    fixed_nb_of_instances = EmptyExplainableObject()\n",
    "    )"
   ]
  },
  {
   "cell_type": "markdown",
   "id": "576d8d9b-3c1a-4ad8-822c-c1eb21c9e19f",
   "metadata": {},
   "source": [
    "### Creating objects from default values\n",
    "\n",
    "All e-footprint classes also implement default values and a from_defaults method that allows for using a set a pre-defined default attributes and specifying the ones we want to specify through keyword arguments."
   ]
  },
  {
   "cell_type": "code",
   "execution_count": 4,
   "id": "f0b0fde5-19a2-46f2-9cfe-f7f855dc0f02",
   "metadata": {},
   "outputs": [
    {
     "data": {
      "text/plain": [
       "{'carbon_footprint_fabrication_per_storage_capacity': 160 kilogram,\n",
       " 'power_per_storage_capacity': 1.3 watt,\n",
       " 'lifespan': 6 year,\n",
       " 'idle_power': 0 watt,\n",
       " 'storage_capacity': 1 terabyte,\n",
       " 'data_replication_factor': 3 dimensionless,\n",
       " 'base_storage_need': 0 terabyte,\n",
       " 'data_storage_duration': 5 year}"
      ]
     },
     "execution_count": 4,
     "metadata": {},
     "output_type": "execute_result"
    }
   ],
   "source": [
    "Storage.default_values()"
   ]
  },
  {
   "cell_type": "code",
   "execution_count": 5,
   "id": "ab612e72-e183-48ec-a4da-daf1650aa0f9",
   "metadata": {},
   "outputs": [
    {
     "name": "stdout",
     "output_type": "stream",
     "text": [
      "Storage id-450dd0-2-TB-SSD-storage\n",
      " \n",
      "name: 2 TB SSD storage\n",
      "lifespan: 6 year\n",
      "fraction_of_usage_time: 1 dimensionless\n",
      "carbon_footprint_fabrication_per_storage_capacity: 160 kilogram\n",
      "power_per_storage_capacity: 1.3 watt\n",
      "idle_power: 0 watt\n",
      "storage_capacity: 2 terabyte\n",
      "data_replication_factor: 3 dimensionless\n",
      "data_storage_duration: 5 year\n",
      "base_storage_need: 0 terabyte\n",
      "fixed_nb_of_instances: no value\n",
      " \n",
      "calculated_attributes:\n",
      "  carbon_footprint_fabrication: 0 kilogram\n",
      "  power: 0 watt\n",
      "  storage_delta: no value\n",
      "  full_cumulative_storage_need: no value\n",
      "  raw_nb_of_instances: no value\n",
      "  nb_of_instances: no value\n",
      "  nb_of_active_instances: no value\n",
      "  instances_fabrication_footprint: no value\n",
      "  instances_energy: no value\n",
      "  energy_footprint: no value\n",
      "\n"
     ]
    }
   ],
   "source": [
    "# Creating a storage object from defaults while specifying storage capacity using keyword arguments\n",
    "print(Storage.from_defaults(\"2 TB SSD storage\", storage_capacity=SourceValue(2 * u.TB)))"
   ]
  },
  {
   "cell_type": "markdown",
   "id": "3b59148c-1fa9-40db-a532-cfa103eeb3d1",
   "metadata": {},
   "source": [
    "We can see from the above print that e-footprint objects have calculated attributes that are setup as None and then computed by e-footprint when the modeling is over. More information on e-footprint objects’ calculated_attributes can be found in the [e-footprint documentation](https://boavizta.github.io/e-footprint/)."
   ]
  },
  {
   "cell_type": "markdown",
   "id": "c7987565-b2ca-46e9-96a0-af6fa6a079fc",
   "metadata": {},
   "source": [
    "### Creating objects from archetypes\n",
    "\n",
    "Some e-footprint objects (Storage, Network and Hardware) also have archetypes that have their own set of default values:"
   ]
  },
  {
   "cell_type": "code",
   "execution_count": 6,
   "id": "e300c5c5-4614-476c-92d3-20e820375df3",
   "metadata": {},
   "outputs": [
    {
     "data": {
      "text/plain": [
       "[<bound method Storage.ssd of <class 'efootprint.core.hardware.storage.Storage'>>,\n",
       " <bound method Storage.hdd of <class 'efootprint.core.hardware.storage.Storage'>>]"
      ]
     },
     "execution_count": 6,
     "metadata": {},
     "output_type": "execute_result"
    }
   ],
   "source": [
    "Storage.archetypes()"
   ]
  },
  {
   "cell_type": "code",
   "execution_count": 7,
   "id": "9f12751d-34db-4fb1-976c-010cfdc717fa",
   "metadata": {},
   "outputs": [
    {
     "name": "stdout",
     "output_type": "stream",
     "text": [
      "Storage id-cd41c2-Default-HDD-storage\n",
      " \n",
      "name: Default HDD storage\n",
      "lifespan: 4 year\n",
      "fraction_of_usage_time: 1 dimensionless\n",
      "carbon_footprint_fabrication_per_storage_capacity: 20.0 kilogram / gigabyte\n",
      "power_per_storage_capacity: 4.2 watt / gigabyte\n",
      "idle_power: 0 watt\n",
      "storage_capacity: 1 terabyte\n",
      "data_replication_factor: 3 dimensionless\n",
      "data_storage_duration: 5 year\n",
      "base_storage_need: 0 terabyte\n",
      "fixed_nb_of_instances: no value\n",
      " \n",
      "calculated_attributes:\n",
      "  carbon_footprint_fabrication: 0 kilogram\n",
      "  power: 0 watt\n",
      "  storage_delta: no value\n",
      "  full_cumulative_storage_need: no value\n",
      "  raw_nb_of_instances: no value\n",
      "  nb_of_instances: no value\n",
      "  nb_of_active_instances: no value\n",
      "  instances_fabrication_footprint: no value\n",
      "  instances_energy: no value\n",
      "  energy_footprint: no value\n",
      "\n"
     ]
    }
   ],
   "source": [
    "print(Storage.hdd())"
   ]
  },
  {
   "cell_type": "markdown",
   "id": "f80b9fcb-9802-4727-a569-8d55a6a4d3b7",
   "metadata": {},
   "source": [
    "Apart from environmental and technical attributes, e-footprint objects can link to other e-footprint objects. For example, server objects have a storage attribute:"
   ]
  },
  {
   "cell_type": "code",
   "execution_count": 8,
   "id": "92719fd2-07a7-4172-8ddb-2db532497a3b",
   "metadata": {
    "ExecuteTime": {
     "end_time": "2024-09-19T13:07:00.682701Z",
     "start_time": "2024-09-19T13:07:00.575519Z"
    }
   },
   "outputs": [
    {
     "name": "stdout",
     "output_type": "stream",
     "text": [
      "Server id-642867-server\n",
      " \n",
      "name: server\n",
      "carbon_footprint_fabrication: 600 kilogram\n",
      "power: 300 watt\n",
      "lifespan: 6 year\n",
      "fraction_of_usage_time: 1 dimensionless\n",
      "server_type: autoscaling\n",
      "idle_power: 50 watt\n",
      "ram: 128 gigabyte\n",
      "compute: 24 cpu_core\n",
      "power_usage_effectiveness: 1.2 dimensionless\n",
      "average_carbon_intensity: 100.0 gram / kilowatt_hour\n",
      "server_utilization_rate: 0.9 dimensionless\n",
      "base_ram_consumption: 300 megabyte\n",
      "base_compute_consumption: 2 cpu_core\n",
      "fixed_nb_of_instances: no value\n",
      "storage: id-58ba69-SSD-storage\n",
      " \n",
      "calculated_attributes:\n",
      "  hour_by_hour_ram_need: no value\n",
      "  hour_by_hour_compute_need: no value\n",
      "  occupied_ram_per_instance: no value\n",
      "  occupied_compute_per_instance: no value\n",
      "  available_ram_per_instance: no value\n",
      "  available_compute_per_instance: no value\n",
      "  raw_nb_of_instances: no value\n",
      "  nb_of_instances: no value\n",
      "  instances_fabrication_footprint: no value\n",
      "  instances_energy: no value\n",
      "  energy_footprint: no value\n",
      "\n"
     ]
    }
   ],
   "source": [
    "server = Server.from_defaults(\n",
    "    \"server\",\n",
    "    server_type=ServerTypes.autoscaling(),\n",
    "    power_usage_effectiveness=SourceValue(1.2 * u.dimensionless, Sources.HYPOTHESIS),\n",
    "    average_carbon_intensity=SourceValue(100 * u.g / u.kWh, Sources.HYPOTHESIS),\n",
    "    server_utilization_rate=SourceValue(0.9 * u.dimensionless, Sources.HYPOTHESIS),\n",
    "    base_ram_consumption=SourceValue(300 * u.MB, Sources.HYPOTHESIS),\n",
    "    base_compute_consumption=SourceValue(2 * u.cpu_core, Sources.HYPOTHESIS),\n",
    "    storage=storage\n",
    ")\n",
    "\n",
    "print(server)"
   ]
  },
  {
   "cell_type": "markdown",
   "id": "2461435c-ac9c-42a5-a8d8-09d7647750aa",
   "metadata": {},
   "source": [
    "### Creating objects from builders connected to external data sources\n",
    "\n",
    "Of course only relying on a single set of default values for creating our servers won’t get us far. That’s why e-footprint provides a builder class that connects to [Boavizta’s API](https://github.com/Boavizta/boaviztapi) to allow for the creation of servers from a cloud provider and an instance type."
   ]
  },
  {
   "cell_type": "code",
   "execution_count": 9,
   "id": "33cc1716-53e3-4b45-bdf4-ba59eb9ee8f2",
   "metadata": {},
   "outputs": [
    {
     "name": "stdout",
     "output_type": "stream",
     "text": [
      "Possible values for server_type: [autoscaling, on-premise, serverless]\n",
      "Possible values for provider: [aws, azure, scaleway]\n"
     ]
    }
   ],
   "source": [
    "from efootprint.builders.hardware.boavizta_cloud_server import BoaviztaCloudServer\n",
    "\n",
    "# Some attributes can only take specific values\n",
    "for attribute, attribute_list_value in BoaviztaCloudServer.list_values().items():\n",
    "    print(f\"Possible values for {attribute}: {attribute_list_value}\")"
   ]
  },
  {
   "cell_type": "code",
   "execution_count": 10,
   "id": "7984ea74-b2f8-41b7-acbd-b39b9b5de4a4",
   "metadata": {},
   "outputs": [
    {
     "name": "stdout",
     "output_type": "stream",
     "text": [
      "Possible values for fixed_nb_of_instances depend on server_type:\n",
      "\n",
      "    Possible values when server_type is autoscaling: [no value]\n",
      "    Possible values when server_type is serverless: [no value]\n",
      "\n",
      "\n",
      "Possible values for instance_type depend on provider:\n",
      "\n",
      "    Possible values when provider is aws: [a1.medium, a1.large, a1.xlarge, a1.2xlarge, a1.4xlarge, 'etc.']\n",
      "    Possible values when provider is azure: [d2ads_v5, d4ads_v5, d8ads_v5, d16ads_v5, d32ads_v5, 'etc.']\n",
      "    Possible values when provider is scaleway: [coparm1-16c-64g, coparm1-2c-8g, coparm1-32c-128g, coparm1-4c-16g, coparm1-8c-32g, 'etc.']\n",
      "\n",
      "\n"
     ]
    }
   ],
   "source": [
    "# Moreover, some attributes depend on another attribute for their values\n",
    "for attribute, attribute_conditional_dict in BoaviztaCloudServer.conditional_list_values().items():\n",
    "    condition_attribute = attribute_conditional_dict['depends_on']\n",
    "    print(f\"Possible values for {attribute} depend on {condition_attribute}:\\n\")\n",
    "    for condition_value, possible_values in attribute_conditional_dict[\"conditional_list_values\"].items():\n",
    "        if len(possible_values) > 10:\n",
    "            values_to_print = possible_values[:5] + [\"etc.\"]\n",
    "        else:\n",
    "            values_to_print = possible_values\n",
    "        print(f\"    Possible values when {condition_attribute} is {condition_value}: {values_to_print}\")\n",
    "    print(\"\\n\")"
   ]
  },
  {
   "cell_type": "code",
   "execution_count": 11,
   "id": "ca3ad292-3365-4b6b-bf9b-c3cc53544d36",
   "metadata": {},
   "outputs": [
    {
     "data": {
      "text/plain": [
       "{'provider': scaleway,\n",
       " 'instance_type': dev1-s,\n",
       " 'server_type': autoscaling,\n",
       " 'average_carbon_intensity': 0.23 kilogram / kilowatt_hour,\n",
       " 'lifespan': 6 year,\n",
       " 'idle_power': 0 watt,\n",
       " 'power_usage_effectiveness': 1.2 dimensionless,\n",
       " 'server_utilization_rate': 0.9 dimensionless,\n",
       " 'base_ram_consumption': 0 gigabyte,\n",
       " 'base_compute_consumption': 0 cpu_core,\n",
       " 'fixed_nb_of_instances': no value}"
      ]
     },
     "execution_count": 11,
     "metadata": {},
     "output_type": "execute_result"
    }
   ],
   "source": [
    "# BoaviztaCloudServer still has quite a lot of default values but ones that are much easier to make hypothesis on, \n",
    "# like lifespan, server utilisation rate or power usage effectiveness\n",
    "default_values = BoaviztaCloudServer.default_values()\n",
    "default_values.pop(\"storage\")\n",
    "default_values"
   ]
  },
  {
   "cell_type": "code",
   "execution_count": 12,
   "id": "8c7d0b2c-7da8-4a86-999f-55a5a0006380",
   "metadata": {},
   "outputs": [
    {
     "name": "stderr",
     "output_type": "stream",
     "text": [
      "2025-01-28 12:19:04,552 - INFO - Computing calculated attributes for BoaviztaCloudServer Default Boavizta cloud server\n",
      "2025-01-28 12:19:04,552 - INFO - Calling Boavizta API with url https://api.boavizta.org/v1/cloud/instance, method GET and params {'params': {'provider': 'scaleway', 'instance_type': 'dev1-s'}}\n"
     ]
    },
    {
     "name": "stdout",
     "output_type": "stream",
     "text": [
      "BoaviztaCloudServer id-70b46a-Default-Boavizta-cloud-server\n",
      " \n",
      "name: Default Boavizta cloud server\n",
      "lifespan: 6 year\n",
      "fraction_of_usage_time: 1 dimensionless\n",
      "server_type: autoscaling\n",
      "idle_power: 0 watt\n",
      "power_usage_effectiveness: 1.2 dimensionless\n",
      "average_carbon_intensity: 0.23 kilogram / kilowatt_hour\n",
      "server_utilization_rate: 0.9 dimensionless\n",
      "base_ram_consumption: 0 gigabyte\n",
      "base_compute_consumption: 0 cpu_core\n",
      "fixed_nb_of_instances: no value\n",
      "storage: id-33bbb7-Default-SSD-storage\n",
      "provider: scaleway\n",
      "instance_type: dev1-s\n",
      " \n",
      "calculated_attributes:\n",
      "  api_call_response: {'impacts': {'gwp': {'unit': 'kgCO2eq', 'description': 'Tota...\n",
      "  carbon_footprint_fabrication: 20.0 kilogram\n",
      "  power: 11.33 watt\n",
      "  ram: 256.0 gigabyte\n",
      "  compute: 16.0 cpu_core\n",
      "  hour_by_hour_ram_need: no value\n",
      "  hour_by_hour_compute_need: no value\n",
      "  occupied_ram_per_instance: 0 gigabyte\n",
      "  occupied_compute_per_instance: 0 cpu_core\n",
      "  available_ram_per_instance: 230.4 gigabyte\n",
      "  available_compute_per_instance: 14.4 cpu_core\n",
      "  raw_nb_of_instances: no value\n",
      "  nb_of_instances: no value\n",
      "  instances_fabrication_footprint: no value\n",
      "  instances_energy: no value\n",
      "  energy_footprint: no value\n",
      "\n"
     ]
    }
   ],
   "source": [
    "# The most difficult environmental and technical attributes are retrieved from a call to BoaviztAPI:\n",
    "print(BoaviztaCloudServer.from_defaults(\"Default Boavizta cloud server\"))"
   ]
  },
  {
   "cell_type": "markdown",
   "id": "aeee21f1-b419-4310-808e-1d4bd9020799",
   "metadata": {},
   "source": [
    "## [Optional] Install services on your server\n",
    "\n",
    "Manually creating job objects can get tricky because you have to specify how much RAM and compute the job uses on the server it runs on during its duration. That’s why e-footprint allows for the installation of services on servers, that will give access to higher-level job classes that compute these very technical attributes from simpler ones. For example, let’s install a video streaming service on our server:"
   ]
  },
  {
   "cell_type": "markdown",
   "id": "e4be75cb-ae4d-4390-86da-f5d52ec0c0da",
   "metadata": {},
   "source": [
    "### Video streaming service"
   ]
  },
  {
   "cell_type": "code",
   "execution_count": 13,
   "id": "8838aca7-c12f-4435-9583-1e27d6da464f",
   "metadata": {},
   "outputs": [
    {
     "data": {
      "text/plain": [
       "{'base_ram_consumption': 2 gigabyte,\n",
       " 'bits_per_pixel': 0.1 dimensionless,\n",
       " 'static_delivery_cpu_cost': 4.0 cpu_core * second / gigabyte,\n",
       " 'ram_buffer_per_user': 50 megabyte}"
      ]
     },
     "execution_count": 13,
     "metadata": {},
     "output_type": "execute_result"
    }
   ],
   "source": [
    "from efootprint.builders.services.video_streaming import VideoStreaming\n",
    "\n",
    "VideoStreaming.default_values()"
   ]
  },
  {
   "cell_type": "code",
   "execution_count": 14,
   "id": "2cc82bdb-23ac-4b04-801f-d68df47bd645",
   "metadata": {},
   "outputs": [
    {
     "name": "stderr",
     "output_type": "stream",
     "text": [
      "2025-01-28 12:19:04,790 - INFO - Computing calculated attributes for VideoStreaming Video streaming service\n"
     ]
    }
   ],
   "source": [
    "video_streaming_service = VideoStreaming.from_defaults(\"Video streaming service\", server=server)"
   ]
  },
  {
   "cell_type": "code",
   "execution_count": 15,
   "id": "5c3f6a71-4169-4c4d-9668-1f90f602f841",
   "metadata": {},
   "outputs": [
    {
     "data": {
      "text/plain": [
       "<bound method Service.compatible_jobs of <class 'efootprint.builders.services.video_streaming.VideoStreaming'>>"
      ]
     },
     "execution_count": 15,
     "metadata": {},
     "output_type": "execute_result"
    }
   ],
   "source": [
    "# All services have a list of compatible job types, let’s check out the ones for video streaming:\n",
    "VideoStreaming.compatible_jobs"
   ]
  },
  {
   "cell_type": "code",
   "execution_count": 16,
   "id": "1c6bb8f7-805d-4fd5-9806-7a6cadadaffa",
   "metadata": {},
   "outputs": [
    {
     "data": {
      "text/plain": [
       "{'resolution': 1080p (1920 x 1080),\n",
       " 'video_duration': 1 hour,\n",
       " 'refresh_rate': 30.0 / second}"
      ]
     },
     "execution_count": 16,
     "metadata": {},
     "output_type": "execute_result"
    }
   ],
   "source": [
    "# There’s only one so let’s use it !\n",
    "from efootprint.builders.services.video_streaming import VideoStreamingJob\n",
    "\n",
    "VideoStreamingJob.default_values()"
   ]
  },
  {
   "cell_type": "code",
   "execution_count": 17,
   "id": "2b705e42-5cad-49ed-8a3b-62e7ceecf988",
   "metadata": {},
   "outputs": [
    {
     "name": "stdout",
     "output_type": "stream",
     "text": [
      "{'resolution': [480p (640 x 480), 720p (1280 x 720), 1080p (1920 x 1080), 1440p (2560 x 1440), 2K (2048 x 1080), 4K (3840 x 2160), 8K (7680 x 4320)]}\n"
     ]
    }
   ],
   "source": [
    "print(VideoStreamingJob.list_values())"
   ]
  },
  {
   "cell_type": "code",
   "execution_count": 18,
   "id": "f5fd6c89-9007-49f6-82fd-c925c231a2c1",
   "metadata": {},
   "outputs": [
    {
     "name": "stdout",
     "output_type": "stream",
     "text": [
      "VideoStreamingJob id-5b5d41-streaming-job\n",
      " \n",
      "name: streaming job\n",
      "data_transferred: 0 kilobyte\n",
      "data_stored: 0 kilobyte\n",
      "request_duration: 1 hour\n",
      "service: id-07d853-Video-streaming-service\n",
      "resolution: 1080p (1920 x 1080)\n",
      "refresh_rate: 30 / second\n",
      " \n",
      "calculated_attributes:\n",
      "  dynamic_bitrate: 0.78 megabyte / second\n",
      "  data_download: 2.8 gigabyte\n",
      "  compute_needed: 0.0 cpu_core\n",
      "  ram_needed: 50 megabyte\n",
      "  hourly_occurrences_per_usage_pattern: {}\n",
      "  hourly_avg_occurrences_per_usage_pattern: {}\n",
      "  hourly_data_transferred_per_usage_pattern: {}\n",
      "  hourly_data_download_per_usage_pattern: {}\n",
      "  hourly_data_stored_per_usage_pattern: {}\n",
      "  hourly_occurrences_across_usage_patterns: no value\n",
      "  hourly_avg_occurrences_across_usage_patterns: no value\n",
      "  hourly_data_transferred_across_usage_patterns: no value\n",
      "  hourly_data_stored_across_usage_patterns: no value\n",
      "\n"
     ]
    }
   ],
   "source": [
    "# Now it’s easy to add a 1 hour 1080p streaming job to our streaming service\n",
    "streaming_job = VideoStreamingJob(\n",
    "    \"streaming job\", service=video_streaming_service, resolution=SourceObject(\"1080p (1920 x 1080)\"), \n",
    "    video_duration=SourceValue(1 * u.hour), refresh_rate=SourceValue(30 / u.s))\n",
    "\n",
    "# For optimization purposes calculations are only made when usage data has been entered but we can force\n",
    "# some of them to see what the VideoStreamingJob does.\n",
    "streaming_job.update_dynamic_bitrate()\n",
    "streaming_job.update_data_download()\n",
    "streaming_job.update_compute_needed()\n",
    "streaming_job.update_ram_needed()\n",
    "\n",
    "print(streaming_job)"
   ]
  },
  {
   "cell_type": "markdown",
   "id": "a50fb33d-da9d-48d3-a532-56d2958cd4ff",
   "metadata": {},
   "source": [
    "### Web application service\n",
    "\n",
    "In the same vein, we can install a web application service on our server. e-footprint’s WebApplication service relies on the analysis of [Boavizta’s ecobenchmark project](https://github.com/Boavizta/ecobenchmark-applicationweb-backend)."
   ]
  },
  {
   "cell_type": "code",
   "execution_count": 25,
   "id": "c032d194-bb7a-4034-beae-7a12f2ca7f8d",
   "metadata": {},
   "outputs": [
    {
     "name": "stderr",
     "output_type": "stream",
     "text": [
      "2025-01-28 12:27:56,213 - INFO - Computing calculated attributes for WebApplication Web app\n"
     ]
    },
    {
     "name": "stdout",
     "output_type": "stream",
     "text": [
      "WebApplication id-9f4f99-Web-app\n",
      " \n",
      "name: Web app\n",
      "server: id-642867-server\n",
      "base_ram_consumption: no value\n",
      "base_compute_consumption: no value\n",
      "technology: php-symfony\n",
      "\n",
      "WebApplicationJob id-c46ac5-fetching-web-view\n",
      " \n",
      "name: fetching web view\n",
      "data_transferred: 200 kilobyte\n",
      "data_download: 2 megabyte\n",
      "data_stored: 100 kilobyte\n",
      "request_duration: 1 second\n",
      "service: id-9f4f99-Web-app\n",
      "implementation_details: default\n",
      " \n",
      "calculated_attributes:\n",
      "  compute_needed: 0.08 cpu_core\n",
      "  ram_needed: 6.15 megabyte\n",
      "  hourly_occurrences_per_usage_pattern: {}\n",
      "  hourly_avg_occurrences_per_usage_pattern: {}\n",
      "  hourly_data_transferred_per_usage_pattern: {}\n",
      "  hourly_data_download_per_usage_pattern: {}\n",
      "  hourly_data_stored_per_usage_pattern: {}\n",
      "  hourly_occurrences_across_usage_patterns: no value\n",
      "  hourly_avg_occurrences_across_usage_patterns: no value\n",
      "  hourly_data_transferred_across_usage_patterns: no value\n",
      "  hourly_data_stored_across_usage_patterns: no value\n",
      "\n"
     ]
    }
   ],
   "source": [
    "from efootprint.builders.services.web_application import WebApplication, WebApplicationJob\n",
    "\n",
    "web_app_service = WebApplication(\"Web app\", server=server, technology=SourceObject(\"php-symfony\"))\n",
    "web_app_job = WebApplicationJob.from_defaults(\"fetching web view\", service=web_app_service)\n",
    "web_app_job.update_compute_needed()\n",
    "web_app_job.update_ram_needed()\n",
    "\n",
    "print(web_app_service)\n",
    "print(web_app_job)"
   ]
  },
  {
   "cell_type": "markdown",
   "id": "cc81bf1b-763e-4e5f-86e0-67e89c86f659",
   "metadata": {},
   "source": [
    "## Define the user journey\n",
    "\n",
    "This is the modeling of the average daily usage of the streaming platform in France:"
   ]
  },
  {
   "cell_type": "code",
   "execution_count": 19,
   "id": "83f1191a-f493-412b-8d44-c740828de778",
   "metadata": {},
   "outputs": [
    {
     "ename": "UndefinedUnitError",
     "evalue": "'core' is not defined in the unit registry",
     "output_type": "error",
     "traceback": [
      "\u001b[0;31m---------------------------------------------------------------------------\u001b[0m",
      "\u001b[0;31mUndefinedUnitError\u001b[0m                        Traceback (most recent call last)",
      "Cell \u001b[0;32mIn[19], line 12\u001b[0m\n\u001b[1;32m      1\u001b[0m streaming_step \u001b[38;5;241m=\u001b[39m UserJourneyStep(\n\u001b[1;32m      2\u001b[0m     \u001b[38;5;124m\"\u001b[39m\u001b[38;5;124m20 min streaming\u001b[39m\u001b[38;5;124m\"\u001b[39m,\n\u001b[1;32m      3\u001b[0m     user_time_spent\u001b[38;5;241m=\u001b[39mSourceValue(\u001b[38;5;241m20\u001b[39m \u001b[38;5;241m*\u001b[39m u\u001b[38;5;241m.\u001b[39mmin, Sources\u001b[38;5;241m.\u001b[39mUSER_DATA),\n\u001b[1;32m      4\u001b[0m     jobs\u001b[38;5;241m=\u001b[39m[\n\u001b[1;32m      5\u001b[0m         Job(\n\u001b[1;32m      6\u001b[0m             \u001b[38;5;124m\"\u001b[39m\u001b[38;5;124mstreaming\u001b[39m\u001b[38;5;124m\"\u001b[39m,\n\u001b[1;32m      7\u001b[0m             server\u001b[38;5;241m=\u001b[39mserver,\n\u001b[1;32m      8\u001b[0m             data_transferred\u001b[38;5;241m=\u001b[39mSourceValue(\u001b[38;5;241m0.05\u001b[39m \u001b[38;5;241m*\u001b[39m u\u001b[38;5;241m.\u001b[39mMB, Sources\u001b[38;5;241m.\u001b[39mUSER_DATA),\n\u001b[1;32m      9\u001b[0m             data_download\u001b[38;5;241m=\u001b[39mSourceValue(\u001b[38;5;241m800\u001b[39m \u001b[38;5;241m*\u001b[39m u\u001b[38;5;241m.\u001b[39mMB, Sources\u001b[38;5;241m.\u001b[39mUSER_DATA),\n\u001b[1;32m     10\u001b[0m             data_stored\u001b[38;5;241m=\u001b[39mSourceValue(\u001b[38;5;241m0.05\u001b[39m \u001b[38;5;241m*\u001b[39m u\u001b[38;5;241m.\u001b[39mMB, Sources\u001b[38;5;241m.\u001b[39mUSER_DATA),\n\u001b[1;32m     11\u001b[0m             request_duration\u001b[38;5;241m=\u001b[39mSourceValue(\u001b[38;5;241m4\u001b[39m \u001b[38;5;241m*\u001b[39m u\u001b[38;5;241m.\u001b[39mmin, Sources\u001b[38;5;241m.\u001b[39mHYPOTHESIS),\n\u001b[0;32m---> 12\u001b[0m             cpu_needed\u001b[38;5;241m=\u001b[39mSourceValue(\u001b[38;5;241m1\u001b[39m \u001b[38;5;241m*\u001b[39m \u001b[43mu\u001b[49m\u001b[38;5;241;43m.\u001b[39;49m\u001b[43mcore\u001b[49m, Sources\u001b[38;5;241m.\u001b[39mHYPOTHESIS),\n\u001b[1;32m     13\u001b[0m             ram_needed\u001b[38;5;241m=\u001b[39mSourceValue(\u001b[38;5;241m50\u001b[39m \u001b[38;5;241m*\u001b[39m u\u001b[38;5;241m.\u001b[39mMB, Sources\u001b[38;5;241m.\u001b[39mHYPOTHESIS)\n\u001b[1;32m     14\u001b[0m             )\n\u001b[1;32m     15\u001b[0m         ]\n\u001b[1;32m     16\u001b[0m     )\n\u001b[1;32m     17\u001b[0m upload_step \u001b[38;5;241m=\u001b[39m UserJourneyStep(\n\u001b[1;32m     18\u001b[0m     \u001b[38;5;124m\"\u001b[39m\u001b[38;5;124m1 min video capture then upload\u001b[39m\u001b[38;5;124m\"\u001b[39m,\n\u001b[1;32m     19\u001b[0m     user_time_spent\u001b[38;5;241m=\u001b[39mSourceValue(\u001b[38;5;241m70\u001b[39m \u001b[38;5;241m*\u001b[39m u\u001b[38;5;241m.\u001b[39ms, Sources\u001b[38;5;241m.\u001b[39mUSER_DATA),\n\u001b[0;32m   (...)\u001b[0m\n\u001b[1;32m     31\u001b[0m     ]\n\u001b[1;32m     32\u001b[0m )\n",
      "File \u001b[0;32m~/Library/Caches/pypoetry/virtualenvs/efootprint-DvRIyG39-py3.12/lib/python3.12/site-packages/pint/registry.py:249\u001b[0m, in \u001b[0;36mApplicationRegistry.__getattr__\u001b[0;34m(self, name)\u001b[0m\n\u001b[1;32m    248\u001b[0m \u001b[38;5;28;01mdef\u001b[39;00m\u001b[38;5;250m \u001b[39m\u001b[38;5;21m__getattr__\u001b[39m(\u001b[38;5;28mself\u001b[39m, name):\n\u001b[0;32m--> 249\u001b[0m     \u001b[38;5;28;01mreturn\u001b[39;00m \u001b[38;5;28;43mgetattr\u001b[39;49m\u001b[43m(\u001b[49m\u001b[38;5;28;43mself\u001b[39;49m\u001b[38;5;241;43m.\u001b[39;49m\u001b[43m_registry\u001b[49m\u001b[43m,\u001b[49m\u001b[43m \u001b[49m\u001b[43mname\u001b[49m\u001b[43m)\u001b[49m\n",
      "File \u001b[0;32m~/Library/Caches/pypoetry/virtualenvs/efootprint-DvRIyG39-py3.12/lib/python3.12/site-packages/pint/facets/plain/registry.py:374\u001b[0m, in \u001b[0;36mGenericPlainRegistry.__getattr__\u001b[0;34m(self, item)\u001b[0m\n\u001b[1;32m    371\u001b[0m getattr_maybe_raise(\u001b[38;5;28mself\u001b[39m, item)\n\u001b[1;32m    373\u001b[0m \u001b[38;5;66;03m# self.Unit will call parse_units\u001b[39;00m\n\u001b[0;32m--> 374\u001b[0m \u001b[38;5;28;01mreturn\u001b[39;00m \u001b[38;5;28;43mself\u001b[39;49m\u001b[38;5;241;43m.\u001b[39;49m\u001b[43mUnit\u001b[49m\u001b[43m(\u001b[49m\u001b[43mitem\u001b[49m\u001b[43m)\u001b[49m\n",
      "File \u001b[0;32m~/Library/Caches/pypoetry/virtualenvs/efootprint-DvRIyG39-py3.12/lib/python3.12/site-packages/pint/facets/plain/unit.py:44\u001b[0m, in \u001b[0;36mPlainUnit.__init__\u001b[0;34m(self, units)\u001b[0m\n\u001b[1;32m     42\u001b[0m     \u001b[38;5;28mself\u001b[39m\u001b[38;5;241m.\u001b[39m_units \u001b[38;5;241m=\u001b[39m units\n\u001b[1;32m     43\u001b[0m \u001b[38;5;28;01melif\u001b[39;00m \u001b[38;5;28misinstance\u001b[39m(units, \u001b[38;5;28mstr\u001b[39m):\n\u001b[0;32m---> 44\u001b[0m     \u001b[38;5;28mself\u001b[39m\u001b[38;5;241m.\u001b[39m_units \u001b[38;5;241m=\u001b[39m \u001b[38;5;28;43mself\u001b[39;49m\u001b[38;5;241;43m.\u001b[39;49m\u001b[43m_REGISTRY\u001b[49m\u001b[38;5;241;43m.\u001b[39;49m\u001b[43mparse_units\u001b[49m\u001b[43m(\u001b[49m\u001b[43munits\u001b[49m\u001b[43m)\u001b[49m\u001b[38;5;241m.\u001b[39m_units\n\u001b[1;32m     45\u001b[0m \u001b[38;5;28;01melif\u001b[39;00m \u001b[38;5;28misinstance\u001b[39m(units, PlainUnit):\n\u001b[1;32m     46\u001b[0m     \u001b[38;5;28mself\u001b[39m\u001b[38;5;241m.\u001b[39m_units \u001b[38;5;241m=\u001b[39m units\u001b[38;5;241m.\u001b[39m_units\n",
      "File \u001b[0;32m~/Library/Caches/pypoetry/virtualenvs/efootprint-DvRIyG39-py3.12/lib/python3.12/site-packages/pint/facets/plain/registry.py:1189\u001b[0m, in \u001b[0;36mGenericPlainRegistry.parse_units\u001b[0;34m(self, input_string, as_delta, case_sensitive)\u001b[0m\n\u001b[1;32m   1161\u001b[0m \u001b[38;5;28;01mdef\u001b[39;00m\u001b[38;5;250m \u001b[39m\u001b[38;5;21mparse_units\u001b[39m(\n\u001b[1;32m   1162\u001b[0m     \u001b[38;5;28mself\u001b[39m,\n\u001b[1;32m   1163\u001b[0m     input_string: \u001b[38;5;28mstr\u001b[39m,\n\u001b[1;32m   1164\u001b[0m     as_delta: Optional[\u001b[38;5;28mbool\u001b[39m] \u001b[38;5;241m=\u001b[39m \u001b[38;5;28;01mNone\u001b[39;00m,\n\u001b[1;32m   1165\u001b[0m     case_sensitive: Optional[\u001b[38;5;28mbool\u001b[39m] \u001b[38;5;241m=\u001b[39m \u001b[38;5;28;01mNone\u001b[39;00m,\n\u001b[1;32m   1166\u001b[0m ) \u001b[38;5;241m-\u001b[39m\u001b[38;5;241m>\u001b[39m UnitT:\n\u001b[1;32m   1167\u001b[0m \u001b[38;5;250m    \u001b[39m\u001b[38;5;124;03m\"\"\"Parse a units expression and returns a UnitContainer with\u001b[39;00m\n\u001b[1;32m   1168\u001b[0m \u001b[38;5;124;03m    the canonical names.\u001b[39;00m\n\u001b[1;32m   1169\u001b[0m \n\u001b[0;32m   (...)\u001b[0m\n\u001b[1;32m   1185\u001b[0m \n\u001b[1;32m   1186\u001b[0m \u001b[38;5;124;03m    \"\"\"\u001b[39;00m\n\u001b[1;32m   1188\u001b[0m     \u001b[38;5;28;01mreturn\u001b[39;00m \u001b[38;5;28mself\u001b[39m\u001b[38;5;241m.\u001b[39mUnit(\n\u001b[0;32m-> 1189\u001b[0m         \u001b[38;5;28;43mself\u001b[39;49m\u001b[38;5;241;43m.\u001b[39;49m\u001b[43mparse_units_as_container\u001b[49m\u001b[43m(\u001b[49m\u001b[43minput_string\u001b[49m\u001b[43m,\u001b[49m\u001b[43m \u001b[49m\u001b[43mas_delta\u001b[49m\u001b[43m,\u001b[49m\u001b[43m \u001b[49m\u001b[43mcase_sensitive\u001b[49m\u001b[43m)\u001b[49m\n\u001b[1;32m   1190\u001b[0m     )\n",
      "File \u001b[0;32m~/Library/Caches/pypoetry/virtualenvs/efootprint-DvRIyG39-py3.12/lib/python3.12/site-packages/pint/facets/nonmultiplicative/registry.py:70\u001b[0m, in \u001b[0;36mGenericNonMultiplicativeRegistry.parse_units_as_container\u001b[0;34m(self, input_string, as_delta, case_sensitive)\u001b[0m\n\u001b[1;32m     67\u001b[0m \u001b[38;5;28;01mif\u001b[39;00m as_delta \u001b[38;5;129;01mis\u001b[39;00m \u001b[38;5;28;01mNone\u001b[39;00m:\n\u001b[1;32m     68\u001b[0m     as_delta \u001b[38;5;241m=\u001b[39m \u001b[38;5;28mself\u001b[39m\u001b[38;5;241m.\u001b[39mdefault_as_delta\n\u001b[0;32m---> 70\u001b[0m \u001b[38;5;28;01mreturn\u001b[39;00m \u001b[38;5;28;43msuper\u001b[39;49m\u001b[43m(\u001b[49m\u001b[43m)\u001b[49m\u001b[38;5;241;43m.\u001b[39;49m\u001b[43mparse_units_as_container\u001b[49m\u001b[43m(\u001b[49m\u001b[43minput_string\u001b[49m\u001b[43m,\u001b[49m\u001b[43m \u001b[49m\u001b[43mas_delta\u001b[49m\u001b[43m,\u001b[49m\u001b[43m \u001b[49m\u001b[43mcase_sensitive\u001b[49m\u001b[43m)\u001b[49m\n",
      "File \u001b[0;32m~/Library/Caches/pypoetry/virtualenvs/efootprint-DvRIyG39-py3.12/lib/python3.12/site-packages/pint/facets/plain/registry.py:1204\u001b[0m, in \u001b[0;36mGenericPlainRegistry.parse_units_as_container\u001b[0;34m(self, input_string, as_delta, case_sensitive)\u001b[0m\n\u001b[1;32m   1198\u001b[0m as_delta \u001b[38;5;241m=\u001b[39m (\n\u001b[1;32m   1199\u001b[0m     as_delta \u001b[38;5;28;01mif\u001b[39;00m as_delta \u001b[38;5;129;01mis\u001b[39;00m \u001b[38;5;129;01mnot\u001b[39;00m \u001b[38;5;28;01mNone\u001b[39;00m \u001b[38;5;28;01melse\u001b[39;00m \u001b[38;5;28;01mTrue\u001b[39;00m\n\u001b[1;32m   1200\u001b[0m )  \u001b[38;5;66;03m# TODO This only exists in nonmultiplicative\u001b[39;00m\n\u001b[1;32m   1201\u001b[0m case_sensitive \u001b[38;5;241m=\u001b[39m (\n\u001b[1;32m   1202\u001b[0m     case_sensitive \u001b[38;5;28;01mif\u001b[39;00m case_sensitive \u001b[38;5;129;01mis\u001b[39;00m \u001b[38;5;129;01mnot\u001b[39;00m \u001b[38;5;28;01mNone\u001b[39;00m \u001b[38;5;28;01melse\u001b[39;00m \u001b[38;5;28mself\u001b[39m\u001b[38;5;241m.\u001b[39mcase_sensitive\n\u001b[1;32m   1203\u001b[0m )\n\u001b[0;32m-> 1204\u001b[0m \u001b[38;5;28;01mreturn\u001b[39;00m \u001b[38;5;28;43mself\u001b[39;49m\u001b[38;5;241;43m.\u001b[39;49m\u001b[43m_parse_units_as_container\u001b[49m\u001b[43m(\u001b[49m\u001b[43minput_string\u001b[49m\u001b[43m,\u001b[49m\u001b[43m \u001b[49m\u001b[43mas_delta\u001b[49m\u001b[43m,\u001b[49m\u001b[43m \u001b[49m\u001b[43mcase_sensitive\u001b[49m\u001b[43m)\u001b[49m\n",
      "File \u001b[0;32m~/Library/Caches/pypoetry/virtualenvs/efootprint-DvRIyG39-py3.12/lib/python3.12/site-packages/pint/facets/plain/registry.py:1239\u001b[0m, in \u001b[0;36mGenericPlainRegistry._parse_units_as_container\u001b[0;34m(self, input_string, as_delta, case_sensitive)\u001b[0m\n\u001b[1;32m   1237\u001b[0m many \u001b[38;5;241m=\u001b[39m \u001b[38;5;28mlen\u001b[39m(units) \u001b[38;5;241m>\u001b[39m \u001b[38;5;241m1\u001b[39m\n\u001b[1;32m   1238\u001b[0m \u001b[38;5;28;01mfor\u001b[39;00m name \u001b[38;5;129;01min\u001b[39;00m units:\n\u001b[0;32m-> 1239\u001b[0m     cname \u001b[38;5;241m=\u001b[39m \u001b[38;5;28;43mself\u001b[39;49m\u001b[38;5;241;43m.\u001b[39;49m\u001b[43mget_name\u001b[49m\u001b[43m(\u001b[49m\u001b[43mname\u001b[49m\u001b[43m,\u001b[49m\u001b[43m \u001b[49m\u001b[43mcase_sensitive\u001b[49m\u001b[38;5;241;43m=\u001b[39;49m\u001b[43mcase_sensitive\u001b[49m\u001b[43m)\u001b[49m\n\u001b[1;32m   1240\u001b[0m     value \u001b[38;5;241m=\u001b[39m units[name]\n\u001b[1;32m   1241\u001b[0m     \u001b[38;5;28;01mif\u001b[39;00m \u001b[38;5;129;01mnot\u001b[39;00m cname:\n",
      "File \u001b[0;32m~/Library/Caches/pypoetry/virtualenvs/efootprint-DvRIyG39-py3.12/lib/python3.12/site-packages/pint/facets/plain/registry.py:647\u001b[0m, in \u001b[0;36mGenericPlainRegistry.get_name\u001b[0;34m(self, name_or_alias, case_sensitive)\u001b[0m\n\u001b[1;32m    645\u001b[0m candidates \u001b[38;5;241m=\u001b[39m \u001b[38;5;28mself\u001b[39m\u001b[38;5;241m.\u001b[39mparse_unit_name(name_or_alias, case_sensitive)\n\u001b[1;32m    646\u001b[0m \u001b[38;5;28;01mif\u001b[39;00m \u001b[38;5;129;01mnot\u001b[39;00m candidates:\n\u001b[0;32m--> 647\u001b[0m     \u001b[38;5;28;01mraise\u001b[39;00m UndefinedUnitError(name_or_alias)\n\u001b[1;32m    649\u001b[0m prefix, unit_name, _ \u001b[38;5;241m=\u001b[39m candidates[\u001b[38;5;241m0\u001b[39m]\n\u001b[1;32m    650\u001b[0m \u001b[38;5;28;01mif\u001b[39;00m \u001b[38;5;28mlen\u001b[39m(candidates) \u001b[38;5;241m>\u001b[39m \u001b[38;5;241m1\u001b[39m:\n",
      "\u001b[0;31mUndefinedUnitError\u001b[0m: 'core' is not defined in the unit registry"
     ]
    }
   ],
   "source": [
    "streaming_step = UserJourneyStep(\n",
    "    \"20 min streaming\",\n",
    "    user_time_spent=SourceValue(20 * u.min, Sources.USER_DATA),\n",
    "    jobs=[\n",
    "        Job(\n",
    "            \"streaming\",\n",
    "            server=server,\n",
    "            data_transferred=SourceValue(0.05 * u.MB, Sources.USER_DATA),\n",
    "            data_download=SourceValue(800 * u.MB, Sources.USER_DATA),\n",
    "            data_stored=SourceValue(0.05 * u.MB, Sources.USER_DATA),\n",
    "            request_duration=SourceValue(4 * u.min, Sources.HYPOTHESIS),\n",
    "            cpu_needed=SourceValue(1 * u.core, Sources.HYPOTHESIS),\n",
    "            ram_needed=SourceValue(50 * u.MB, Sources.HYPOTHESIS)\n",
    "            )\n",
    "        ]\n",
    "    )\n",
    "upload_step = UserJourneyStep(\n",
    "    \"1 min video capture then upload\",\n",
    "    user_time_spent=SourceValue(70 * u.s, Sources.USER_DATA),\n",
    "    jobs=[\n",
    "        Job(\n",
    "            \"video upload\",\n",
    "            server=server,\n",
    "            data_transferred=SourceValue(20 * u.MB, Sources.USER_DATA),\n",
    "            data_download=SourceValue(0 * u.GB, Sources.USER_DATA),\n",
    "            data_stored=SourceValue(20 * u.MB, Sources.USER_DATA),\n",
    "            request_duration=SourceValue(2 * u.s, Sources.HYPOTHESIS),\n",
    "            cpu_needed=SourceValue(1 * u.core, Sources.HYPOTHESIS),\n",
    "            ram_needed=SourceValue(50 * u.MB, Sources.HYPOTHESIS)\n",
    "        )\n",
    "    ]\n",
    ")"
   ]
  },
  {
   "cell_type": "markdown",
   "id": "5ea271b2-80dc-4954-b26e-04b76b1f0490",
   "metadata": {},
   "source": [
    "The user journey is then simply a list of user journey steps:"
   ]
  },
  {
   "cell_type": "code",
   "execution_count": null,
   "id": "d7a256df-b9bf-4f5c-a1d7-884aea4283a9",
   "metadata": {},
   "outputs": [],
   "source": [
    "user_journey = UserJourney(\"Mean video consumption user journey\", uj_steps=[streaming_step, upload_step])"
   ]
  },
  {
   "cell_type": "markdown",
   "id": "f143aef6-1475-45ec-9f3f-588ebf5a6ce6",
   "metadata": {},
   "source": [
    "## Describe usage"
   ]
  },
  {
   "cell_type": "markdown",
   "id": "142aaab5-ce25-4998-94bd-1c9aab96999f",
   "metadata": {},
   "source": [
    "An e-footprint usage pattern links a user journey to devices that run it, a network, a country, and the number of times the user journey gets executed hour by hour. "
   ]
  },
  {
   "cell_type": "code",
   "execution_count": null,
   "id": "acd95f80-fe6b-46d8-ba0f-89671f6b11f1",
   "metadata": {},
   "outputs": [],
   "source": [
    "# Let’s build synthetic usage data by summing a linear growth with a sinusoidal fluctuation components, then adding daily variation\n",
    "from datetime import datetime, timedelta\n",
    "\n",
    "from efootprint.builders.time_builders import linear_growth_hourly_values\n",
    "\n",
    "start_date = datetime.strptime(\"2025-01-01\", \"%Y-%m-%d\")\n",
    "timespan = 3 * u.year\n",
    "\n",
    "linear_growth = linear_growth_hourly_values(timespan, start_value=5000, end_value=100000, start_date=start_date)\n",
    "linear_growth.set_label(\"Hourly user journeys linear growth component\")\n",
    "\n",
    "linear_growth.plot()"
   ]
  },
  {
   "cell_type": "code",
   "execution_count": null,
   "id": "b0e86400-80c6-407c-9dad-acf27005814c",
   "metadata": {},
   "outputs": [],
   "source": [
    "from efootprint.builders.time_builders import sinusoidal_fluct_hourly_values\n",
    "\n",
    "sinusoidal_fluct = sinusoidal_fluct_hourly_values(\n",
    "    timespan, sin_fluct_amplitude=3000, sin_fluct_period_in_hours=3 * 30 * 24, start_date=start_date)\n",
    "\n",
    "lin_growth_plus_sin_fluct = (linear_growth + sinusoidal_fluct).set_label(\"Hourly user journeys linear growth with sinusoidal fluctuations\")\n",
    "\n",
    "lin_growth_plus_sin_fluct.plot()"
   ]
  },
  {
   "cell_type": "code",
   "execution_count": null,
   "id": "4cc06ea4-75fd-4b0b-abe9-d27cd38be958",
   "metadata": {},
   "outputs": [],
   "source": [
    "# Let’s add daily variations because people use the system less at night\n",
    "from efootprint.builders.time_builders import daily_fluct_hourly_values\n",
    "\n",
    "daily_fluct = daily_fluct_hourly_values(timespan, fluct_scale=0.8, hour_of_day_for_min_value=4, start_date=start_date)\n",
    "daily_fluct.set_label(\"Daily volume fluctuation\")\n",
    "\n",
    "daily_fluct.plot(xlims=[start_date, start_date+timedelta(days=1)])"
   ]
  },
  {
   "cell_type": "code",
   "execution_count": null,
   "id": "6a62831c-159b-4b15-8499-fcaba3795b8d",
   "metadata": {},
   "outputs": [],
   "source": [
    "hourly_user_journey_starts = lin_growth_plus_sin_fluct * daily_fluct\n",
    "hourly_user_journey_starts.set_label(\"Hourly number of user journey started\")\n",
    "\n",
    "hourly_user_journey_starts.plot(xlims=[start_date, start_date + timedelta(days=7)])"
   ]
  },
  {
   "cell_type": "code",
   "execution_count": null,
   "id": "5017cb03-827b-4441-b9a0-8b1022625a85",
   "metadata": {},
   "outputs": [],
   "source": [
    "# Over 3 years the daily fluctuations color the area between daily min and max number of hourly user journeys\n",
    "hourly_user_journey_starts.plot()"
   ]
  },
  {
   "cell_type": "code",
   "execution_count": null,
   "id": "477fd54c-f41d-4c3e-a76a-fb6bd48f53e2",
   "metadata": {},
   "outputs": [],
   "source": [
    "network = Network(\n",
    "        \"WIFI network\",\n",
    "        bandwidth_energy_intensity=SourceValue(0.05 * u(\"kWh/GB\"), Sources.TRAFICOM_STUDY))\n",
    "\n",
    "usage_pattern = UsagePattern(\n",
    "    \"Daily video streaming consumption\",\n",
    "    user_journey=user_journey,\n",
    "    devices=[default_laptop()],\n",
    "    network=network,\n",
    "    country=Countries.FRANCE(),\n",
    "    hourly_user_journey_starts=hourly_user_journey_starts\n",
    ")\n",
    "\n",
    "system = System(\"System\", usage_patterns=[usage_pattern])"
   ]
  },
  {
   "cell_type": "markdown",
   "id": "83ec6579-be6a-40ff-bed2-ea4c18062841",
   "metadata": {},
   "source": [
    "## Results\n",
    "\n",
    "### Computed attributes\n",
    "\n",
    "Now all calculated_attributes have been computed:"
   ]
  },
  {
   "cell_type": "code",
   "execution_count": null,
   "id": "0c7aabec-8d2e-439f-af33-1f927bcb4b1b",
   "metadata": {},
   "outputs": [],
   "source": [
    "print(server)"
   ]
  },
  {
   "cell_type": "markdown",
   "id": "e7150f8f-a2a3-4490-b099-5c658f963d83",
   "metadata": {},
   "source": [
    "### System footprint overview"
   ]
  },
  {
   "cell_type": "code",
   "execution_count": null,
   "id": "ad25abdc-dbae-4bc1-97d4-489786e228be",
   "metadata": {},
   "outputs": [],
   "source": [
    "system.plot_footprints_by_category_and_object(\"System footprints.html\")"
   ]
  },
  {
   "cell_type": "markdown",
   "id": "3af39658-b218-4000-b8c8-f5aa3c3e6a36",
   "metadata": {},
   "source": [
    "### Object relationships graph"
   ]
  },
  {
   "cell_type": "markdown",
   "id": "e5e7dc01-ab3e-401c-9cdc-b2cade345c6e",
   "metadata": {},
   "source": [
    "Hover over a node to get the numerical values of its environmental and technical attributes. For simplifying the graph the Network and Hardware nodes are not shown."
   ]
  },
  {
   "cell_type": "code",
   "execution_count": null,
   "id": "5eb42a32-b6bd-4809-a438-a40b341bc218",
   "metadata": {},
   "outputs": [],
   "source": [
    "usage_pattern.object_relationship_graph_to_file(\"object_relationships_graph.html\", width=\"800px\", height=\"500px\",\n",
    "    classes_to_ignore=USAGE_PATTERN_VIEW_CLASSES_TO_IGNORE, notebook=True)"
   ]
  },
  {
   "cell_type": "markdown",
   "id": "7effc658-1791-4bac-9158-0035c887cd52",
   "metadata": {},
   "source": [
    "### Calculus graph\n",
    "\n",
    "Any e-footprint calculation can generate its calculation graph for full auditability. Hover on a calculus node to display its formula and numeric value."
   ]
  },
  {
   "cell_type": "code",
   "execution_count": null,
   "id": "e39717bc-d3b5-4512-9ee4-2cbd1a500de6",
   "metadata": {},
   "outputs": [],
   "source": [
    "usage_pattern.devices_fabrication_footprint.calculus_graph_to_file(\n",
    "    \"device_population_fab_footprint_calculus_graph.html\", width=\"800px\", height=\"500px\", notebook=True)"
   ]
  },
  {
   "cell_type": "markdown",
   "id": "0a07913f-4350-46d9-920c-91c85b907bb9",
   "metadata": {},
   "source": [
    "### Plotting an object’s hourly and cumulated CO2 emissions"
   ]
  },
  {
   "cell_type": "code",
   "execution_count": null,
   "id": "8bda99fb-e1b4-4312-af00-65d2b90f3cfc",
   "metadata": {},
   "outputs": [],
   "source": [
    "server.energy_footprint.plot()"
   ]
  },
  {
   "cell_type": "code",
   "execution_count": null,
   "id": "1ca9919d-f28c-4eba-9b59-6c2b2c105a49",
   "metadata": {},
   "outputs": [],
   "source": [
    "server.energy_footprint.plot(cumsum=True)"
   ]
  },
  {
   "cell_type": "code",
   "execution_count": null,
   "id": "1e12b629-7b14-4c31-a537-19da8c4b355a",
   "metadata": {},
   "outputs": [],
   "source": [
    "system.total_footprint.plot(cumsum=True)"
   ]
  },
  {
   "cell_type": "markdown",
   "id": "bf9abcb8-3201-41f6-8cf0-648b59fdc3ab",
   "metadata": {},
   "source": [
    "## Analysing the impact of a change\n",
    "### Numeric input change\n",
    "Any input change automatically triggers the computation of calculations that depend on the input. For example, let’s say that the average data download consumption of the streaming step decreased because of a change in default video quality:"
   ]
  },
  {
   "cell_type": "code",
   "execution_count": null,
   "id": "761c89aa-3803-4f5a-835b-831fda75e925",
   "metadata": {},
   "outputs": [],
   "source": [
    "streaming_step.jobs[0].data_download = SourceValue(500 * u.MB, Sources.USER_DATA)"
   ]
  },
  {
   "cell_type": "code",
   "execution_count": null,
   "id": "a064f21b-bbae-4d08-ba29-cf998d24a1c3",
   "metadata": {},
   "outputs": [],
   "source": [
    "system.plot_emission_diffs(\"bandwith reduction.png\")"
   ]
  },
  {
   "cell_type": "markdown",
   "id": "4f49bfb6-5274-484c-9a6f-ae3965916ecc",
   "metadata": {},
   "source": [
    "### System structure change\n",
    "Now let’s make a more complex change, like adding a conversation with a generative AI chatbot before streaming the video.\n",
    "Numerical values don’t matter so much for the sake of this tutorial, please check out <a href=\"https://github.com/publicissapient-france/e-footprint-modelings\" target=\"_blank\">the e-footprint-modelings github repository</a> for a more detailed modeling of the impact of LLM training and inference."
   ]
  },
  {
   "cell_type": "code",
   "execution_count": null,
   "id": "49375eaf-d9b7-4ebf-b6f4-758fe8b7e338",
   "metadata": {},
   "outputs": [],
   "source": [
    "llm_server = Autoscaling(\n",
    "    \"Inference GPU server\",\n",
    "    carbon_footprint_fabrication=SourceValue(4900 * u.kg, Sources.HYPOTHESIS),\n",
    "    power=SourceValue(6400 * u.W, Sources.HYPOTHESIS),\n",
    "    lifespan=SourceValue(5 * u.year, Sources.HYPOTHESIS),\n",
    "    idle_power=SourceValue(500 * u.W, Sources.HYPOTHESIS),\n",
    "    ram=SourceValue(128 * u.GB, Sources.HYPOTHESIS),\n",
    "    cpu_cores=SourceValue(16 * u.core, Sources.HYPOTHESIS), # Used to represent GPUs because e-footprint doesn’t natively model GPU resources yet.\n",
    "    power_usage_effectiveness=SourceValue(1.2 * u.dimensionless, Sources.HYPOTHESIS),\n",
    "    average_carbon_intensity=SourceValue(300 * u.g / u.kWh, Sources.HYPOTHESIS),\n",
    "    server_utilization_rate=SourceValue(1 * u.dimensionless, Sources.HYPOTHESIS),\n",
    "    base_ram_consumption=SourceValue(0 * u.MB, Sources.HYPOTHESIS),\n",
    "    base_cpu_consumption=SourceValue(0 * u.core, Sources.HYPOTHESIS),\n",
    "    storage=default_ssd()\n",
    ")"
   ]
  },
  {
   "cell_type": "code",
   "execution_count": null,
   "id": "ade1089e-7371-4beb-8bb4-0007a269e447",
   "metadata": {},
   "outputs": [],
   "source": [
    "llm_chat_step = UserJourneyStep(\n",
    "    \"Chat with LLM to select video\", user_time_spent=SourceValue(1 * u.min, Sources.HYPOTHESIS),\n",
    "    jobs=[Job(\"LLM API call\", llm_server, SourceValue(300 * u.kB, Sources.USER_DATA),\n",
    "              SourceValue(300 * u.kB, Sources.USER_DATA), SourceValue(300 * u.kB, Sources.USER_DATA),\n",
    "              request_duration=SourceValue(5 * u.s, Sources.HYPOTHESIS),\n",
    "              cpu_needed=SourceValue(16 * u.core, Sources.HYPOTHESIS),\n",
    "              ram_needed=SourceValue(128 * u.GB, Sources.HYPOTHESIS))])"
   ]
  },
  {
   "cell_type": "code",
   "execution_count": null,
   "id": "9f788d83-07f4-47c3-9aeb-7a6063f74c49",
   "metadata": {},
   "outputs": [],
   "source": [
    "# Adding the new step is simply an attribute update.\n",
    "user_journey.uj_steps.append(llm_chat_step)"
   ]
  },
  {
   "cell_type": "code",
   "execution_count": null,
   "id": "95182422-21a4-4e06-a2cf-ab965a24d843",
   "metadata": {},
   "outputs": [],
   "source": [
    "system.plot_emission_diffs(\"LLM chat addition.png\")"
   ]
  },
  {
   "cell_type": "markdown",
   "id": "8ee70991-25f7-4d7f-8add-fc5d0a5cc96f",
   "metadata": {},
   "source": [
    "We can see that server energy footprint has been multiplied by more than 10 and the rest of the impact is quite negligible. Good to know to make informed decisions ! Of course the impact is very much dependent on assumptions. If the LLM server ran on low-carbon electricity for example:"
   ]
  },
  {
   "cell_type": "code",
   "execution_count": null,
   "id": "73667e80-8c11-41a7-a466-196b5209da21",
   "metadata": {},
   "outputs": [],
   "source": [
    "llm_server.average_carbon_intensity = SourceValue(50 * u.g / u.kWh, Sources.HYPOTHESIS)\n",
    "system.plot_emission_diffs(\"lower LLM inference carbon intensity.png\")"
   ]
  },
  {
   "cell_type": "markdown",
   "id": "199a8c17-b7fc-45dc-98d7-1f4c532ef9f6",
   "metadata": {},
   "source": [
    "## Recap of all System changes"
   ]
  },
  {
   "cell_type": "code",
   "execution_count": null,
   "id": "94e8fd22-628b-4e3d-833f-461b6284481b",
   "metadata": {},
   "outputs": [],
   "source": [
    "system.plot_emission_diffs(\"All system diffs.png\", from_start=True)"
   ]
  },
  {
   "cell_type": "markdown",
   "id": "3dbf19e5-0d36-403a-9106-50feacb76cf6",
   "metadata": {},
   "source": [
    "## Making simulations of changes in the future\n",
    "\n",
    "We’ve seen that you can make changes in your modeling and analyse the differences, but most likely the changes you’re contemplating will happen at some point in the future. Let’s model a change in the future thanks to e-footprint’s ModelingUpdate object !"
   ]
  },
  {
   "cell_type": "code",
   "execution_count": null,
   "id": "79e03eb2-e390-4804-a089-3ee6ddb5e0e4",
   "metadata": {},
   "outputs": [],
   "source": [
    "# Let’s first revert the system to its state before changes\n",
    "# We can make optimized batch changes by using the ModelingUpdate object, that is also used to make simulations of changes in the future\n",
    "from efootprint.abstract_modeling_classes.modeling_update import ModelingUpdate\n",
    "\n",
    "ModelingUpdate([\n",
    "    [user_journey.uj_steps, [streaming_step, upload_step]],\n",
    "    [llm_server.average_carbon_intensity, SourceValue(300 * u.g / u.kWh, Sources.HYPOTHESIS)],\n",
    "    [streaming_step.jobs[0].data_download, SourceValue(800 * u.MB, Sources.USER_DATA)]\n",
    "])\n",
    "\n",
    "system.plot_footprints_by_category_and_object(\"System footprints after reset.html\")"
   ]
  },
  {
   "cell_type": "code",
   "execution_count": null,
   "id": "bccb5c4a-04d4-49b3-a950-91067c55c98d",
   "metadata": {},
   "outputs": [],
   "source": [
    "# To create a simulation, which is a change in the future, simply set ModelingUpdate’s simulation_date parameter\n",
    "simulation = ModelingUpdate([[user_journey.uj_steps, [streaming_step, upload_step, llm_chat_step]]],\n",
    "                           simulation_date=start_date + timedelta(days=365))"
   ]
  },
  {
   "cell_type": "code",
   "execution_count": null,
   "id": "721ba588-61d1-4be7-862e-4068466c8756",
   "metadata": {},
   "outputs": [],
   "source": [
    "system.total_footprint.plot(cumsum=True)"
   ]
  },
  {
   "cell_type": "code",
   "execution_count": null,
   "id": "f2c8e382-71dd-4ffa-91ab-84d91b3fcc86",
   "metadata": {},
   "outputs": [],
   "source": [
    "llm_server.energy_footprint.plot(cumsum=True)"
   ]
  },
  {
   "cell_type": "code",
   "execution_count": null,
   "id": "adce91f3-84b2-4dde-8807-5818e7d85665",
   "metadata": {},
   "outputs": [],
   "source": [
    "# The system state is reset to baseline after the simulation.\n",
    "# For example, our LLM server has no energy footprint since it is not used in the baseline modeling\n",
    "llm_server.energy_footprint"
   ]
  },
  {
   "cell_type": "code",
   "execution_count": null,
   "id": "adab4541-9773-43c7-8775-22e976895dd7",
   "metadata": {},
   "outputs": [],
   "source": [
    "# To set simulation values, use ModelingUpdate’s set_updated_values method\n",
    "simulation.set_updated_values()\n",
    "llm_server.energy_footprint"
   ]
  },
  {
   "cell_type": "code",
   "execution_count": null,
   "id": "2b5d3613-9200-4f63-b0de-e8117d9cda4a",
   "metadata": {},
   "outputs": [],
   "source": [
    "# Conversely, pre-update values are reset using ModelingUpdate’s reset_values method\n",
    "simulation.reset_values()\n",
    "llm_server.energy_footprint"
   ]
  }
 ],
 "metadata": {
  "kernelspec": {
   "display_name": "efootprint",
   "language": "python",
   "name": "efootprint"
  },
  "language_info": {
   "codemirror_mode": {
    "name": "ipython",
    "version": 3
   },
   "file_extension": ".py",
   "mimetype": "text/x-python",
   "name": "python",
   "nbconvert_exporter": "python",
   "pygments_lexer": "ipython3",
   "version": "3.12.7"
  }
 },
 "nbformat": 4,
 "nbformat_minor": 5
}
